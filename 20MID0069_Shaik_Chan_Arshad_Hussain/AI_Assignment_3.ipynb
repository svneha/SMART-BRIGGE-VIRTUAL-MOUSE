{
  "nbformat": 4,
  "nbformat_minor": 0,
  "metadata": {
    "colab": {
      "provenance": [],
      "gpuType": "T4"
    },
    "kernelspec": {
      "name": "python3",
      "display_name": "Python 3"
    },
    "language_info": {
      "name": "python"
    },
    "accelerator": "GPU"
  },
  "cells": [
    {
      "cell_type": "code",
      "execution_count": null,
      "metadata": {
        "id": "wk4Eo7pPmiHq",
        "colab": {
          "base_uri": "https://localhost:8080/"
        },
        "outputId": "a2cda250-062c-4380-85d2-bd31a3055c79"
      },
      "outputs": [
        {
          "output_type": "stream",
          "name": "stdout",
          "text": [
            "Drive already mounted at /content/drive; to attempt to forcibly remount, call drive.mount(\"/content/drive\", force_remount=True).\n"
          ]
        }
      ],
      "source": [
        "from google.colab import drive\n",
        "drive.mount('/content/drive')"
      ]
    },
    {
      "cell_type": "code",
      "source": [
        "!unzip '/content/drive/MyDrive/Colab Notebooks/birds_dataset.zip'"
      ],
      "metadata": {
        "colab": {
          "base_uri": "https://localhost:8080/"
        },
        "id": "YoOrNHxat8zo",
        "outputId": "897fd2db-d910-4c30-8ebd-9b1c62f41943"
      },
      "execution_count": null,
      "outputs": [
        {
          "output_type": "stream",
          "name": "stdout",
          "text": [
            "Archive:  /content/drive/MyDrive/Colab Notebooks/birds_dataset.zip\n",
            "  inflating: test_data/test_data/blasti/DSC_6396.jpg  \n",
            "  inflating: test_data/test_data/blasti/DSC_6397.jpg  \n",
            "  inflating: test_data/test_data/blasti/DSC_6398.jpg  \n",
            "  inflating: test_data/test_data/blasti/DSC_6399.jpg  \n",
            "  inflating: test_data/test_data/blasti/DSC_6400.jpg  \n",
            "  inflating: test_data/test_data/blasti/DSC_6401.jpg  \n",
            "  inflating: test_data/test_data/blasti/DSC_6402.jpg  \n",
            "  inflating: test_data/test_data/blasti/DSC_6403.jpg  \n",
            "  inflating: test_data/test_data/blasti/DSC_6405.jpg  \n",
            "  inflating: test_data/test_data/blasti/DSC_6406.jpg  \n",
            "  inflating: test_data/test_data/blasti/DSC_6407.jpg  \n",
            "  inflating: test_data/test_data/blasti/DSC_6408.jpg  \n",
            "  inflating: test_data/test_data/blasti/DSC_6409.jpg  \n",
            "  inflating: test_data/test_data/blasti/DSC_6410.jpg  \n",
            "  inflating: test_data/test_data/blasti/DSC_6411.jpg  \n",
            "  inflating: test_data/test_data/bonegl/DSC_4587.jpg  \n",
            "  inflating: test_data/test_data/bonegl/DSC_4588.jpg  \n",
            "  inflating: test_data/test_data/bonegl/DSC_4589.jpg  \n",
            "  inflating: test_data/test_data/bonegl/DSC_4590.jpg  \n",
            "  inflating: test_data/test_data/bonegl/DSC_4591.jpg  \n",
            "  inflating: test_data/test_data/bonegl/DSC_4592.jpg  \n",
            "  inflating: test_data/test_data/bonegl/DSC_4593.jpg  \n",
            "  inflating: test_data/test_data/brhkyt/D72_0473.jpg  \n",
            "  inflating: test_data/test_data/brhkyt/D72_0474.jpg  \n",
            "  inflating: test_data/test_data/brhkyt/D72_0475.jpg  \n",
            "  inflating: test_data/test_data/brhkyt/D72_0477.jpg  \n",
            "  inflating: test_data/test_data/brhkyt/D72_0478.jpg  \n",
            "  inflating: test_data/test_data/brhkyt/D72_0479.jpg  \n",
            "  inflating: test_data/test_data/cbrtsh/_D32_10310.jpg  \n",
            "  inflating: test_data/test_data/cbrtsh/_D32_10311.jpg  \n",
            "  inflating: test_data/test_data/cbrtsh/_D32_10312.jpg  \n",
            "  inflating: test_data/test_data/cbrtsh/_D32_10313.jpg  \n",
            "  inflating: test_data/test_data/cbrtsh/_D32_10314.jpg  \n",
            "  inflating: test_data/test_data/cbrtsh/_D32_10317.jpg  \n",
            "  inflating: test_data/test_data/cbrtsh/_D32_10318.jpg  \n",
            "  inflating: test_data/test_data/cmnmyn/DSC_2443.jpg  \n",
            "  inflating: test_data/test_data/cmnmyn/DSC_4681.jpg  \n",
            "  inflating: test_data/test_data/cmnmyn/DSC_5137.jpg  \n",
            "  inflating: test_data/test_data/cmnmyn/DSC_7625.jpg  \n",
            "  inflating: test_data/test_data/cmnmyn/P1050277.jpg  \n",
            "  inflating: test_data/test_data/cmnmyn/_D32_12426.jpg  \n",
            "  inflating: test_data/test_data/cmnmyn/_D32_12427.jpg  \n",
            "  inflating: test_data/test_data/cmnmyn/_D32_12428.jpg  \n",
            "  inflating: test_data/test_data/gretit/11620454726_31a35c26da_o.jpg  \n",
            "  inflating: test_data/test_data/gretit/11776135285_ccf938fa2e_o.jpg  \n",
            "  inflating: test_data/test_data/gretit/11905645146_6a5d4ff9f9_o.jpg  \n",
            "  inflating: test_data/test_data/gretit/8537646712_0b282c4c6a_o.jpg  \n",
            "  inflating: test_data/test_data/gretit/D72_0693.jpg  \n",
            "  inflating: test_data/test_data/gretit/D72_0694.jpg  \n",
            "  inflating: test_data/test_data/gretit/D72_0695.jpg  \n",
            "  inflating: test_data/test_data/hilpig/DSC_6359.jpg  \n",
            "  inflating: test_data/test_data/hilpig/DSC_6362.jpg  \n",
            "  inflating: test_data/test_data/hilpig/DSC_6364.jpg  \n",
            "  inflating: test_data/test_data/hilpig/DSC_6368.jpg  \n",
            "  inflating: test_data/test_data/hilpig/DSC_6403.jpg  \n",
            "  inflating: test_data/test_data/hilpig/DSC_6404.jpg  \n",
            "  inflating: test_data/test_data/hilpig/P1000319.jpg  \n",
            "  inflating: test_data/test_data/hilpig/P1000323.jpg  \n",
            "  inflating: test_data/test_data/hilpig/P1050044.jpg  \n",
            "  inflating: test_data/test_data/hilpig/P1050045.jpg  \n",
            "  inflating: test_data/test_data/himbul/11602064885_3826df4500_o.jpg  \n",
            "  inflating: test_data/test_data/himbul/11619942574_42f23a7b05_o.jpg  \n",
            "  inflating: test_data/test_data/himbul/11620097904_33fa8ee878_o.jpg  \n",
            "  inflating: test_data/test_data/himbul/5857371972_ed4f88b275_o.jpg  \n",
            "  inflating: test_data/test_data/himbul/6154954471_eefe6e00d1_o.jpg  \n",
            "  inflating: test_data/test_data/himbul/D72_0688.jpg  \n",
            "  inflating: test_data/test_data/himbul/D72_0691.jpg  \n",
            "  inflating: test_data/test_data/himbul/DSC08357.jpg  \n",
            "  inflating: test_data/test_data/himbul/DSC_3230.jpg  \n",
            "  inflating: test_data/test_data/himbul/DSC_7439.jpg  \n",
            "  inflating: test_data/test_data/himbul/DSC_7602.jpg  \n",
            "  inflating: test_data/test_data/himbul/P1060368.jpg  \n",
            "  inflating: test_data/test_data/himbul/P1060369.jpg  \n",
            "  inflating: test_data/test_data/himbul/_D32_10242.jpg  \n",
            "  inflating: test_data/test_data/himbul/_D32_10245.jpg  \n",
            "  inflating: test_data/test_data/himbul/_D32_10251.jpg  \n",
            "  inflating: test_data/test_data/himbul/_D32_10319.jpg  \n",
            "  inflating: test_data/test_data/himbul/_D32_10320.jpg  \n",
            "  inflating: test_data/test_data/himbul/_DSC9446.jpg  \n",
            "  inflating: test_data/test_data/himgri/IMG_5384.JPG  \n",
            "  inflating: test_data/test_data/himgri/IMG_5385.JPG  \n",
            "  inflating: test_data/test_data/himgri/IMG_5386.JPG  \n",
            "  inflating: test_data/test_data/himgri/IMG_5387.JPG  \n",
            "  inflating: test_data/test_data/himgri/IMG_5459.JPG  \n",
            "  inflating: test_data/test_data/himgri/IMG_5460.JPG  \n",
            "  inflating: test_data/test_data/himgri/IMG_5487.JPG  \n",
            "  inflating: test_data/test_data/himgri/IMG_5488.JPG  \n",
            "  inflating: test_data/test_data/himgri/IMG_5489.JPG  \n",
            "  inflating: test_data/test_data/himgri/IMG_5490.JPG  \n",
            "  inflating: test_data/test_data/himgri/IMG_5491.JPG  \n",
            "  inflating: test_data/test_data/himgri/IMG_5492.JPG  \n",
            "  inflating: test_data/test_data/himgri/P1020742.jpg  \n",
            "  inflating: test_data/test_data/himgri/P1020743.jpg  \n",
            "  inflating: test_data/test_data/himgri/P1020746.jpg  \n",
            "  inflating: test_data/test_data/himgri/P1020748.jpg  \n",
            "  inflating: test_data/test_data/himgri/P1030055.jpg  \n",
            "  inflating: test_data/test_data/himgri/P1060776.jpg  \n",
            "  inflating: test_data/test_data/himgri/P1060777.jpg  \n",
            "  inflating: test_data/test_data/himgri/P1060778.jpg  \n",
            "  inflating: test_data/test_data/hsparo/100_5573.JPG  \n",
            "  inflating: test_data/test_data/hsparo/100_5585.JPG  \n",
            "  inflating: test_data/test_data/hsparo/100_5586.JPG  \n",
            "  inflating: test_data/test_data/hsparo/100_5742.JPG  \n",
            "  inflating: test_data/test_data/hsparo/12265273154_48e0fefd42_o.jpg  \n",
            "  inflating: test_data/test_data/hsparo/DSC_4521.jpg  \n",
            "  inflating: test_data/test_data/hsparo/DSC_7619.jpg  \n",
            "  inflating: test_data/test_data/hsparo/_DSC_11244.jpg  \n",
            "  inflating: test_data/test_data/hsparo/_DSC_11246.jpg  \n",
            "  inflating: test_data/test_data/indvul/DSC_1263.jpg  \n",
            "  inflating: test_data/test_data/indvul/DSC_1273.jpg  \n",
            "  inflating: test_data/test_data/indvul/DSC_1274.jpg  \n",
            "  inflating: test_data/test_data/indvul/DSC_1275.jpg  \n",
            "  inflating: test_data/test_data/indvul/DSC_1277.jpg  \n",
            "  inflating: test_data/test_data/indvul/_DSC8754.jpg  \n",
            "  inflating: test_data/test_data/indvul/_DSC9520.jpg  \n",
            "  inflating: test_data/test_data/indvul/_DSC9521.jpg  \n",
            "  inflating: test_data/test_data/indvul/_DSC9523.jpg  \n",
            "  inflating: test_data/test_data/jglowl/_D32_10584.jpg  \n",
            "  inflating: test_data/test_data/jglowl/_D32_10587.jpg  \n",
            "  inflating: test_data/test_data/jglowl/_D32_10593.jpg  \n",
            "  inflating: test_data/test_data/jglowl/_D32_13515.jpg  \n",
            "  inflating: test_data/test_data/jglowl/_D32_13516.jpg  \n",
            "  inflating: test_data/test_data/jglowl/_D32_13517.jpg  \n",
            "  inflating: test_data/test_data/lbicrw/100_4917.JPG  \n",
            "  inflating: test_data/test_data/lbicrw/IMG_5538.JPG  \n",
            "  inflating: test_data/test_data/lbicrw/IMG_5541.JPG  \n",
            "  inflating: test_data/test_data/lbicrw/IMG_5543.JPG  \n",
            "  inflating: test_data/test_data/lbicrw/IMG_5544.JPG  \n",
            "  inflating: test_data/test_data/lbicrw/P1030030.jpg  \n",
            "  inflating: test_data/test_data/mgprob/100_5811.JPG  \n",
            "  inflating: test_data/test_data/mgprob/100_5812.JPG  \n",
            "  inflating: test_data/test_data/mgprob/100_5813.JPG  \n",
            "  inflating: test_data/test_data/mgprob/DSC_3233.jpg  \n",
            "  inflating: test_data/test_data/mgprob/_DSC0085.jpg  \n",
            "  inflating: test_data/test_data/mgprob/_DSC0133.jpg  \n",
            "  inflating: test_data/test_data/mgprob/_DSC0135.jpg  \n",
            "  inflating: test_data/test_data/rebimg/100_5756.JPG  \n",
            "  inflating: test_data/test_data/rebimg/100_5757.JPG  \n",
            "  inflating: test_data/test_data/rebimg/100_5758.JPG  \n",
            "  inflating: test_data/test_data/rebimg/100_5759.JPG  \n",
            "  inflating: test_data/test_data/rebimg/100_5760.JPG  \n",
            "  inflating: test_data/test_data/rebimg/13009302395_5d88a9d62b_o.jpg  \n",
            "  inflating: test_data/test_data/rebimg/13009315305_f1cbfb6767_o.jpg  \n",
            "  inflating: test_data/test_data/rebimg/13009451823_8eb502581f_o.jpg  \n",
            "  inflating: test_data/test_data/rebimg/DSC_7148.jpg  \n",
            "  inflating: test_data/test_data/rebimg/IMG_5251.JPG  \n",
            "  inflating: test_data/test_data/rebimg/IMG_5252.JPG  \n",
            "  inflating: test_data/test_data/wcrsrt/100_4462.JPG  \n",
            "  inflating: test_data/test_data/wcrsrt/100_4463.JPG  \n",
            "  inflating: test_data/test_data/wcrsrt/100_4464.JPG  \n",
            "  inflating: test_data/test_data/wcrsrt/100_4466.JPG  \n",
            "  inflating: test_data/test_data/wcrsrt/100_4467.JPG  \n",
            "  inflating: test_data/test_data/wcrsrt/100_4468.JPG  \n",
            "  inflating: test_data/test_data/wcrsrt/100_5103.JPG  \n",
            "  inflating: test_data/test_data/wcrsrt/100_5105.JPG  \n",
            "  inflating: test_data/test_data/wcrsrt/11382677585_ef6570a041_o.jpg  \n",
            "  inflating: test_data/test_data/wcrsrt/11382746854_7ce73793b3_o.jpg  \n",
            "  inflating: train_data/train_data/blasti/DSC_6382.jpg  \n",
            "  inflating: train_data/train_data/blasti/DSC_6383.jpg  \n",
            "  inflating: train_data/train_data/blasti/DSC_6384-2.jpg  \n",
            "  inflating: train_data/train_data/blasti/DSC_6384.jpg  \n",
            "  inflating: train_data/train_data/blasti/DSC_6385.jpg  \n",
            "  inflating: train_data/train_data/blasti/DSC_6386.jpg  \n",
            "  inflating: train_data/train_data/blasti/DSC_6387.jpg  \n",
            "  inflating: train_data/train_data/blasti/DSC_6388.jpg  \n",
            "  inflating: train_data/train_data/blasti/DSC_6389.jpg  \n",
            "  inflating: train_data/train_data/blasti/DSC_6390.jpg  \n",
            "  inflating: train_data/train_data/blasti/DSC_6391.jpg  \n",
            "  inflating: train_data/train_data/blasti/DSC_6392.jpg  \n",
            "  inflating: train_data/train_data/blasti/DSC_6393.jpg  \n",
            "  inflating: train_data/train_data/blasti/DSC_6394.jpg  \n",
            "  inflating: train_data/train_data/blasti/DSC_6395.jpg  \n",
            "  inflating: train_data/train_data/bonegl/DSC_4570.jpg  \n",
            "  inflating: train_data/train_data/bonegl/DSC_4571.jpg  \n",
            "  inflating: train_data/train_data/bonegl/DSC_4583.jpg  \n",
            "  inflating: train_data/train_data/bonegl/DSC_4584.jpg  \n",
            "  inflating: train_data/train_data/bonegl/DSC_4585.jpg  \n",
            "  inflating: train_data/train_data/bonegl/DSC_4586.jpg  \n",
            "  inflating: train_data/train_data/brhkyt/D72_0400.jpg  \n",
            "  inflating: train_data/train_data/brhkyt/D72_0401.jpg  \n",
            "  inflating: train_data/train_data/brhkyt/D72_0470.jpg  \n",
            "  inflating: train_data/train_data/brhkyt/D72_0471.jpg  \n",
            "  inflating: train_data/train_data/brhkyt/D72_0472.jpg  \n",
            "  inflating: train_data/train_data/cbrtsh/100_5097.JPG  \n",
            "  inflating: train_data/train_data/cbrtsh/_D32_10303.jpg  \n",
            "  inflating: train_data/train_data/cbrtsh/_D32_10305.jpg  \n",
            "  inflating: train_data/train_data/cbrtsh/_D32_10306.jpg  \n",
            "  inflating: train_data/train_data/cbrtsh/_D32_10307.jpg  \n",
            "  inflating: train_data/train_data/cbrtsh/_D32_10308.jpg  \n",
            "  inflating: train_data/train_data/cbrtsh/_D32_10309.jpg  \n",
            "  inflating: train_data/train_data/cmnmyn/100_5763.JPG  \n",
            "  inflating: train_data/train_data/cmnmyn/5866682091_870ccc946c_o.jpg  \n",
            "  inflating: train_data/train_data/cmnmyn/6154956165_64266b8b53_o.jpg  \n",
            "  inflating: train_data/train_data/cmnmyn/DSCN5784.jpg  \n",
            "  inflating: train_data/train_data/cmnmyn/DSCN5787.jpg  \n",
            "  inflating: train_data/train_data/cmnmyn/DSCN5790.jpg  \n",
            "  inflating: train_data/train_data/cmnmyn/DSCN5791.jpg  \n",
            "  inflating: train_data/train_data/gretit/100_5042.JPG  \n",
            "  inflating: train_data/train_data/gretit/100_5043.JPG  \n",
            "  inflating: train_data/train_data/gretit/100_5044.JPG  \n",
            "  inflating: train_data/train_data/gretit/100_5045.JPG  \n",
            "  inflating: train_data/train_data/gretit/100_5046.JPG  \n",
            "  inflating: train_data/train_data/gretit/100_5047.JPG  \n",
            "  inflating: train_data/train_data/hilpig/DSC_6272.jpg  \n",
            "  inflating: train_data/train_data/hilpig/DSC_6273.jpg  \n",
            "  inflating: train_data/train_data/hilpig/DSC_6274.jpg  \n",
            "  inflating: train_data/train_data/hilpig/DSC_6275.jpg  \n",
            "  inflating: train_data/train_data/hilpig/DSC_6350.jpg  \n",
            "  inflating: train_data/train_data/hilpig/DSC_6351.jpg  \n",
            "  inflating: train_data/train_data/hilpig/DSC_6352.jpg  \n",
            "  inflating: train_data/train_data/hilpig/DSC_6353.jpg  \n",
            "  inflating: train_data/train_data/hilpig/DSC_6354.jpg  \n",
            "  inflating: train_data/train_data/hilpig/DSC_6358.jpg  \n",
            "  inflating: train_data/train_data/himbul/100_5028.JPG  \n",
            "  inflating: train_data/train_data/himbul/100_5029.JPG  \n",
            "  inflating: train_data/train_data/himbul/100_5096.JPG  \n",
            "  inflating: train_data/train_data/himbul/100_5099.JPG  \n",
            "  inflating: train_data/train_data/himbul/100_5100.JPG  \n",
            "  inflating: train_data/train_data/himbul/100_5102.JPG  \n",
            "  inflating: train_data/train_data/himbul/100_5110.JPG  \n",
            "  inflating: train_data/train_data/himbul/100_5112.JPG  \n",
            "  inflating: train_data/train_data/himbul/100_5113.JPG  \n",
            "  inflating: train_data/train_data/himbul/100_5159.JPG  \n",
            "  inflating: train_data/train_data/himbul/100_5160.JPG  \n",
            "  inflating: train_data/train_data/himbul/100_5161.JPG  \n",
            "  inflating: train_data/train_data/himbul/100_5162.JPG  \n",
            "  inflating: train_data/train_data/himbul/10774570945_9bc537c255_o.jpg  \n",
            "  inflating: train_data/train_data/himbul/11383838134_96e891a316_o.jpg  \n",
            "  inflating: train_data/train_data/himbul/11383857084_cdd7514746_o.jpg  \n",
            "  inflating: train_data/train_data/himbul/11387473723_464965720a_o.jpg  \n",
            "  inflating: train_data/train_data/himbul/9007817678_24db19fc63_o.jpg  \n",
            "  inflating: train_data/train_data/himgri/12029790563_2fe54a68aa_o.jpg  \n",
            "  inflating: train_data/train_data/himgri/12029822653_1185544e7b_o.jpg  \n",
            "  inflating: train_data/train_data/himgri/12029933015_802428e277_o.jpg  \n",
            "  inflating: train_data/train_data/himgri/12029987304_031b7a2d53_o.jpg  \n",
            "  inflating: train_data/train_data/himgri/12030165813_f5341e8ed0_o.jpg  \n",
            "  inflating: train_data/train_data/himgri/12030221124_1baaf905d1_o.jpg  \n",
            "  inflating: train_data/train_data/himgri/12030269234_1c3f5a8e8c_o.jpg  \n",
            "  inflating: train_data/train_data/himgri/12152037683_13e1556c41_o.jpg  \n",
            "  inflating: train_data/train_data/himgri/12152178844_dc29e3126f_o.jpg  \n",
            "  inflating: train_data/train_data/himgri/12152510436_23b62fed3b_o.jpg  \n",
            "  inflating: train_data/train_data/himgri/12265055185_138e3c7c70_o.jpg  \n",
            "  inflating: train_data/train_data/himgri/12265498144_d2e80faa3b_o.jpg  \n",
            "  inflating: train_data/train_data/himgri/12265561764_4814951031_o.jpg  \n",
            "  inflating: train_data/train_data/himgri/12265582724_61cb64e73a_o.jpg  \n",
            "  inflating: train_data/train_data/himgri/12265738206_2b9b25cc8a_o.jpg  \n",
            "  inflating: train_data/train_data/himgri/12265747116_d4b4fa3741_o.jpg  \n",
            "  inflating: train_data/train_data/himgri/12266053036_fcab92d8e8_o.jpg  \n",
            "  inflating: train_data/train_data/himgri/12266077576_1d7143aaf7_o.jpg  \n",
            "  inflating: train_data/train_data/himgri/12266086526_82cd337667_o.jpg  \n",
            "  inflating: train_data/train_data/himgri/IMG_5463.JPG  \n",
            "  inflating: train_data/train_data/hsparo/100_4757.JPG  \n",
            "  inflating: train_data/train_data/hsparo/100_4758.JPG  \n",
            "  inflating: train_data/train_data/hsparo/100_5039.JPG  \n",
            "  inflating: train_data/train_data/hsparo/100_5040.JPG  \n",
            "  inflating: train_data/train_data/hsparo/100_5041.JPG  \n",
            "  inflating: train_data/train_data/hsparo/100_5048.JPG  \n",
            "  inflating: train_data/train_data/hsparo/100_5049.JPG  \n",
            "  inflating: train_data/train_data/hsparo/100_5050.JPG  \n",
            "  inflating: train_data/train_data/hsparo/100_5572.JPG  \n",
            "  inflating: train_data/train_data/indvul/DSC_0502.jpg  \n",
            "  inflating: train_data/train_data/indvul/DSC_0571e.jpg  \n",
            "  inflating: train_data/train_data/indvul/DSC_0572.jpg  \n",
            "  inflating: train_data/train_data/indvul/DSC_0576e.jpg  \n",
            "  inflating: train_data/train_data/indvul/DSC_0582.jpg  \n",
            "  inflating: train_data/train_data/indvul/DSC_0583e.jpg  \n",
            "  inflating: train_data/train_data/indvul/DSC_0584.jpg  \n",
            "  inflating: train_data/train_data/indvul/DSC_0616c.jpg  \n",
            "  inflating: train_data/train_data/indvul/DSC_0617.jpg  \n",
            "  inflating: train_data/train_data/jglowl/12152151476_7a1524aabb_o.jpg  \n",
            "  inflating: train_data/train_data/jglowl/DSC01335.jpg  \n",
            "  inflating: train_data/train_data/jglowl/DSC01336.jpg  \n",
            "  inflating: train_data/train_data/jglowl/_D32_10285.jpg  \n",
            "  inflating: train_data/train_data/jglowl/_D32_10578.jpg  \n",
            "  inflating: train_data/train_data/jglowl/_D32_10583.jpg  \n",
            "  inflating: train_data/train_data/lbicrw/100_4037.JPG  \n",
            "  inflating: train_data/train_data/lbicrw/100_4912.JPG  \n",
            "  inflating: train_data/train_data/lbicrw/100_4913.JPG  \n",
            "  inflating: train_data/train_data/lbicrw/100_4914.JPG  \n",
            "  inflating: train_data/train_data/lbicrw/100_4915.JPG  \n",
            "  inflating: train_data/train_data/lbicrw/100_4916.JPG  \n",
            "  inflating: train_data/train_data/mgprob/100_5587.JPG  \n",
            "  inflating: train_data/train_data/mgprob/100_5588.JPG  \n",
            "  inflating: train_data/train_data/mgprob/100_5589.JPG  \n",
            "  inflating: train_data/train_data/mgprob/100_5590.JPG  \n",
            "  inflating: train_data/train_data/mgprob/100_5592.JPG  \n",
            "  inflating: train_data/train_data/mgprob/100_5762.JPG  \n",
            "  inflating: train_data/train_data/rebimg/100_5744.JPG  \n",
            "  inflating: train_data/train_data/rebimg/100_5745.JPG  \n",
            "  inflating: train_data/train_data/rebimg/100_5746.JPG  \n",
            "  inflating: train_data/train_data/rebimg/100_5748.JPG  \n",
            "  inflating: train_data/train_data/rebimg/100_5749.JPG  \n",
            "  inflating: train_data/train_data/rebimg/100_5750.JPG  \n",
            "  inflating: train_data/train_data/rebimg/100_5751.JPG  \n",
            "  inflating: train_data/train_data/rebimg/100_5752.JPG  \n",
            "  inflating: train_data/train_data/rebimg/100_5754.JPG  \n",
            "  inflating: train_data/train_data/rebimg/100_5755.JPG  \n",
            "  inflating: train_data/train_data/wcrsrt/100_4452.JPG  \n",
            "  inflating: train_data/train_data/wcrsrt/100_4453.JPG  \n",
            "  inflating: train_data/train_data/wcrsrt/100_4454.JPG  \n",
            "  inflating: train_data/train_data/wcrsrt/100_4455.JPG  \n",
            "  inflating: train_data/train_data/wcrsrt/100_4456.JPG  \n",
            "  inflating: train_data/train_data/wcrsrt/100_4457.JPG  \n",
            "  inflating: train_data/train_data/wcrsrt/100_4458.JPG  \n",
            "  inflating: train_data/train_data/wcrsrt/100_4459.JPG  \n",
            "  inflating: train_data/train_data/wcrsrt/100_4460.JPG  \n",
            "  inflating: train_data/train_data/wcrsrt/100_4461.JPG  \n"
          ]
        }
      ]
    },
    {
      "cell_type": "code",
      "source": [
        "import tensorflow as tf\n",
        "tf.keras.backend.clear_session()"
      ],
      "metadata": {
        "id": "upk0zdh25Zpz"
      },
      "execution_count": null,
      "outputs": []
    },
    {
      "cell_type": "code",
      "source": [
        "# Data Augmentation\n",
        "from tensorflow.keras.preprocessing.image import ImageDataGenerator\n",
        "from tensorflow.keras.layers import Convolution2D,MaxPooling2D,Flatten,Dense\n",
        "from tensorflow.keras.models import Sequential\n",
        "import cv2 as cv"
      ],
      "metadata": {
        "id": "o1JnyzJ0nlON"
      },
      "execution_count": null,
      "outputs": []
    },
    {
      "cell_type": "code",
      "source": [
        "train_gen = ImageDataGenerator(rescale=(1./255),horizontal_flip=True,shear_range=0.2)\n",
        "test_gen = ImageDataGenerator(rescale=(1./255))"
      ],
      "metadata": {
        "id": "Cuar5EtknuJz"
      },
      "execution_count": null,
      "outputs": []
    },
    {
      "cell_type": "code",
      "source": [
        "train = train_gen.flow_from_directory('/content/train_data/train_data',\n",
        "                                      target_size=(120, 120),\n",
        "                                      class_mode='categorical',\n",
        "                                      batch_size=8)\n",
        "test = test_gen.flow_from_directory('/content/test_data/test_data',\n",
        "                                    target_size=(120, 120),\n",
        "                                      class_mode='categorical',\n",
        "                                      batch_size=8)"
      ],
      "metadata": {
        "id": "12aJVcqTnz9L",
        "colab": {
          "base_uri": "https://localhost:8080/"
        },
        "outputId": "789c908a-cf18-48fb-d6b1-c700544ac8e8"
      },
      "execution_count": null,
      "outputs": [
        {
          "output_type": "stream",
          "name": "stdout",
          "text": [
            "Found 150 images belonging to 16 classes.\n",
            "Found 157 images belonging to 16 classes.\n"
          ]
        }
      ]
    },
    {
      "cell_type": "code",
      "source": [
        "print(train.class_indices)\n",
        "print(test.class_indices)"
      ],
      "metadata": {
        "id": "I9ENPi8Hn_49",
        "colab": {
          "base_uri": "https://localhost:8080/"
        },
        "outputId": "26545c42-cd39-461e-9e86-ce7a3f816510"
      },
      "execution_count": null,
      "outputs": [
        {
          "output_type": "stream",
          "name": "stdout",
          "text": [
            "{'blasti': 0, 'bonegl': 1, 'brhkyt': 2, 'cbrtsh': 3, 'cmnmyn': 4, 'gretit': 5, 'hilpig': 6, 'himbul': 7, 'himgri': 8, 'hsparo': 9, 'indvul': 10, 'jglowl': 11, 'lbicrw': 12, 'mgprob': 13, 'rebimg': 14, 'wcrsrt': 15}\n",
            "{'blasti': 0, 'bonegl': 1, 'brhkyt': 2, 'cbrtsh': 3, 'cmnmyn': 4, 'gretit': 5, 'hilpig': 6, 'himbul': 7, 'himgri': 8, 'hsparo': 9, 'indvul': 10, 'jglowl': 11, 'lbicrw': 12, 'mgprob': 13, 'rebimg': 14, 'wcrsrt': 15}\n"
          ]
        }
      ]
    },
    {
      "cell_type": "code",
      "source": [
        "# CNN\n",
        "from tensorflow.keras.layers import Convolution2D,MaxPooling2D,Flatten,Dense\n",
        "from tensorflow.keras.models import Sequential"
      ],
      "metadata": {
        "id": "X_uXGbz_zyCW"
      },
      "execution_count": null,
      "outputs": []
    },
    {
      "cell_type": "code",
      "source": [
        "model = Sequential([\n",
        "    Convolution2D(20,(3,3),activation = 'relu',input_shape=(120,120,3)),\n",
        "    MaxPooling2D(2,2),\n",
        "    Flatten(),\n",
        "    Dense(45,activation = 'relu'),\n",
        "    Dense(16,activation = 'softmax')\n",
        "])"
      ],
      "metadata": {
        "id": "JKI7aY_kz1YS"
      },
      "execution_count": null,
      "outputs": []
    },
    {
      "cell_type": "code",
      "source": [
        "model.compile(optimizer='adam',loss='categorical_crossentropy',metrics=['accuracy'])"
      ],
      "metadata": {
        "id": "QUeYHjfjz4FK"
      },
      "execution_count": null,
      "outputs": []
    },
    {
      "cell_type": "code",
      "source": [
        "model_fit = model.fit(train,epochs =20,validation_data = test ,batch_size=5)"
      ],
      "metadata": {
        "colab": {
          "base_uri": "https://localhost:8080/"
        },
        "id": "cYmuyml2z6Oa",
        "outputId": "20fc5624-e46b-4e4c-907e-e85c04d7b3ac"
      },
      "execution_count": null,
      "outputs": [
        {
          "output_type": "stream",
          "name": "stdout",
          "text": [
            "Epoch 1/20\n",
            "19/19 [==============================] - 100s 5s/step - loss: 4.6672 - accuracy: 0.0933 - val_loss: 2.7711 - val_accuracy: 0.1210\n",
            "Epoch 2/20\n",
            "19/19 [==============================] - 88s 5s/step - loss: 2.8274 - accuracy: 0.1200 - val_loss: 2.7689 - val_accuracy: 0.1210\n",
            "Epoch 3/20\n",
            "19/19 [==============================] - 87s 5s/step - loss: 2.7375 - accuracy: 0.1000 - val_loss: 2.7249 - val_accuracy: 0.1210\n",
            "Epoch 4/20\n",
            "19/19 [==============================] - 88s 5s/step - loss: 2.6762 - accuracy: 0.1400 - val_loss: 2.8300 - val_accuracy: 0.0510\n",
            "Epoch 5/20\n",
            "19/19 [==============================] - 120s 7s/step - loss: 2.6292 - accuracy: 0.0933 - val_loss: 2.6976 - val_accuracy: 0.1592\n",
            "Epoch 6/20\n",
            "19/19 [==============================] - 87s 5s/step - loss: 2.5741 - accuracy: 0.1000 - val_loss: 2.6937 - val_accuracy: 0.1274\n",
            "Epoch 7/20\n",
            "19/19 [==============================] - 88s 5s/step - loss: 2.5257 - accuracy: 0.0933 - val_loss: 2.6994 - val_accuracy: 0.1274\n",
            "Epoch 8/20\n",
            "19/19 [==============================] - 89s 5s/step - loss: 2.5076 - accuracy: 0.1067 - val_loss: 2.6841 - val_accuracy: 0.1083\n",
            "Epoch 9/20\n",
            "19/19 [==============================] - 87s 5s/step - loss: 2.4802 - accuracy: 0.1200 - val_loss: 2.6888 - val_accuracy: 0.1274\n",
            "Epoch 10/20\n",
            "19/19 [==============================] - 119s 7s/step - loss: 2.4771 - accuracy: 0.0933 - val_loss: 2.6625 - val_accuracy: 0.1783\n",
            "Epoch 11/20\n",
            "19/19 [==============================] - 88s 5s/step - loss: 2.4230 - accuracy: 0.0933 - val_loss: 2.6656 - val_accuracy: 0.1720\n",
            "Epoch 12/20\n",
            "19/19 [==============================] - 88s 5s/step - loss: 2.4241 - accuracy: 0.1200 - val_loss: 2.7886 - val_accuracy: 0.1465\n",
            "Epoch 13/20\n",
            "19/19 [==============================] - 87s 5s/step - loss: 2.3982 - accuracy: 0.1267 - val_loss: 2.6629 - val_accuracy: 0.1656\n",
            "Epoch 14/20\n",
            "19/19 [==============================] - 88s 5s/step - loss: 2.3754 - accuracy: 0.1067 - val_loss: 2.8472 - val_accuracy: 0.1529\n",
            "Epoch 15/20\n",
            "19/19 [==============================] - 87s 5s/step - loss: 2.3904 - accuracy: 0.1267 - val_loss: 2.6859 - val_accuracy: 0.1401\n",
            "Epoch 16/20\n",
            "19/19 [==============================] - 89s 5s/step - loss: 2.3825 - accuracy: 0.1267 - val_loss: 2.6844 - val_accuracy: 0.1656\n",
            "Epoch 17/20\n",
            "19/19 [==============================] - 88s 5s/step - loss: 2.3703 - accuracy: 0.1400 - val_loss: 2.6672 - val_accuracy: 0.1592\n",
            "Epoch 18/20\n",
            "19/19 [==============================] - 120s 7s/step - loss: 2.3407 - accuracy: 0.1133 - val_loss: 2.7184 - val_accuracy: 0.1656\n",
            "Epoch 19/20\n",
            "19/19 [==============================] - 120s 7s/step - loss: 2.3332 - accuracy: 0.1200 - val_loss: 2.6804 - val_accuracy: 0.1720\n",
            "Epoch 20/20\n",
            "19/19 [==============================] - 86s 5s/step - loss: 2.3843 - accuracy: 0.1933 - val_loss: 2.7078 - val_accuracy: 0.1465\n"
          ]
        }
      ]
    },
    {
      "cell_type": "code",
      "source": [
        "model.save('birds.h5')"
      ],
      "metadata": {
        "id": "KWeRnj-dz89v"
      },
      "execution_count": null,
      "outputs": []
    },
    {
      "cell_type": "code",
      "source": [
        "import numpy as np\n",
        "from tensorflow.keras.preprocessing import image"
      ],
      "metadata": {
        "id": "3t0C8QBPHr4T"
      },
      "execution_count": null,
      "outputs": []
    },
    {
      "cell_type": "code",
      "source": [
        "output = ['rebimg','wcrsrt','jglowl','ibicrw','mgprob','hsparo',\n",
        "         'indvul','himgri','himbul','gretit','hilpig','cbrtsh',\n",
        "         'cmnmyn','bonegl','brhkyt','blasti']\n",
        "print(output)"
      ],
      "metadata": {
        "colab": {
          "base_uri": "https://localhost:8080/"
        },
        "id": "Vcd6iO_9GhN7",
        "outputId": "f4391b9b-b0bb-4ad2-be7b-837e85c78427"
      },
      "execution_count": null,
      "outputs": [
        {
          "output_type": "stream",
          "name": "stdout",
          "text": [
            "['rebimg', 'wcrsrt', 'jglowl', 'ibicrw', 'mgprob', 'hsparo', 'indvul', 'himgri', 'himbul', 'gretit', 'hilpig', 'cbrtsh', 'cmnmyn', 'bonegl', 'brhkyt', 'blasti']\n"
          ]
        }
      ]
    },
    {
      "cell_type": "code",
      "source": [
        "img1 = image.load_img(\"/content/train_data/train_data/mgprob/100_5590.JPG\",target_size=(120,120))\n",
        "img1 = image.img_to_array(img1)\n",
        "img1 = np.expand_dims(img1,axis=0)\n",
        "pred = np.argmax(model.predict(img1))\n",
        "print(pred)\n",
        "print(output[pred])"
      ],
      "metadata": {
        "colab": {
          "base_uri": "https://localhost:8080/"
        },
        "id": "GRdEapnHGkP5",
        "outputId": "5dae99d9-c02c-44af-9683-30551a71cdee"
      },
      "execution_count": null,
      "outputs": [
        {
          "output_type": "stream",
          "name": "stdout",
          "text": [
            "1/1 [==============================] - 0s 132ms/step\n",
            "14\n",
            "brhkyt\n"
          ]
        }
      ]
    },
    {
      "cell_type": "code",
      "source": [
        "img1 = image.load_img(\"/content/train_data/train_data/cmnmyn/100_5763.JPG\",target_size=(120,120))\n",
        "img1 = image.img_to_array(img1)\n",
        "img1 = np.expand_dims(img1,axis=0)\n",
        "pred = np.argmax(model.predict(img1))\n",
        "print(pred)\n",
        "print(output[pred])"
      ],
      "metadata": {
        "colab": {
          "base_uri": "https://localhost:8080/"
        },
        "id": "YoRtwAGxHgKG",
        "outputId": "8b4d4644-e560-4730-88fe-95acbd3a516d"
      },
      "execution_count": null,
      "outputs": [
        {
          "output_type": "stream",
          "name": "stdout",
          "text": [
            "1/1 [==============================] - 0s 21ms/step\n",
            "8\n",
            "himbul\n"
          ]
        }
      ]
    },
    {
      "cell_type": "code",
      "source": [
        "img1 = image.load_img(\"/content/train_data/train_data/gretit/100_5043.JPG\",target_size=(120,120))\n",
        "img1 = image.img_to_array(img1)\n",
        "img1 = np.expand_dims(img1,axis=0)\n",
        "pred = np.argmax(model.predict(img1))\n",
        "print(pred)\n",
        "print(output[pred])"
      ],
      "metadata": {
        "colab": {
          "base_uri": "https://localhost:8080/"
        },
        "id": "bWLsBg0JRG4D",
        "outputId": "28b8d0a2-8402-4f3c-cec0-78f79708c9ea"
      },
      "execution_count": null,
      "outputs": [
        {
          "output_type": "stream",
          "name": "stdout",
          "text": [
            "1/1 [==============================] - 0s 20ms/step\n",
            "8\n",
            "himbul\n"
          ]
        }
      ]
    },
    {
      "cell_type": "code",
      "source": [
        "img1 = image.load_img(\"/content/train_data/train_data/himbul/100_5029.JPG\",target_size=(120,120))\n",
        "img1 = image.img_to_array(img1)\n",
        "img1 = np.expand_dims(img1,axis=0)\n",
        "pred = np.argmax(model.predict(img1))\n",
        "print(pred)\n",
        "print(output[pred])"
      ],
      "metadata": {
        "colab": {
          "base_uri": "https://localhost:8080/"
        },
        "id": "EzIg8vgIRRIP",
        "outputId": "497eae5c-8060-4388-b74c-0a7a2f254a63"
      },
      "execution_count": null,
      "outputs": [
        {
          "output_type": "stream",
          "name": "stdout",
          "text": [
            "1/1 [==============================] - 0s 26ms/step\n",
            "8\n",
            "himbul\n"
          ]
        }
      ]
    },
    {
      "cell_type": "code",
      "source": [
        "img1 = image.load_img(\"/content/train_data/train_data/hilpig/DSC_6273.jpg\",target_size=(120,120))\n",
        "img1 = image.img_to_array(img1)\n",
        "img1 = np.expand_dims(img1,axis=0)\n",
        "pred = np.argmax(model.predict(img1))\n",
        "print(pred)\n",
        "print(output[pred])"
      ],
      "metadata": {
        "id": "DoqivhjrRm15",
        "colab": {
          "base_uri": "https://localhost:8080/"
        },
        "outputId": "ee53acda-3b73-4d6a-dc45-8dc5b30e6245"
      },
      "execution_count": null,
      "outputs": [
        {
          "output_type": "stream",
          "name": "stdout",
          "text": [
            "1/1 [==============================] - 0s 20ms/step\n",
            "8\n",
            "himbul\n"
          ]
        }
      ]
    },
    {
      "cell_type": "code",
      "source": [
        "img1 = image.load_img(\"/content/train_data/train_data/gretit/100_5043.JPG\",target_size=(120,120))\n",
        "img1 = image.img_to_array(img1)\n",
        "img1 = np.expand_dims(img1,axis=0)\n",
        "pred = np.argmax(model.predict(img1))\n",
        "print(pred)\n",
        "print(output[pred])"
      ],
      "metadata": {
        "id": "JfmbZqbqf2pM",
        "colab": {
          "base_uri": "https://localhost:8080/"
        },
        "outputId": "a654e6de-39f4-4b59-88cf-afbdcdc5b58e"
      },
      "execution_count": null,
      "outputs": [
        {
          "output_type": "stream",
          "name": "stdout",
          "text": [
            "1/1 [==============================] - 0s 21ms/step\n",
            "8\n",
            "himbul\n"
          ]
        }
      ]
    },
    {
      "cell_type": "code",
      "source": [
        "img1 = image.load_img(\"/content/train_data/train_data/cmnmyn/100_5763.JPG\",target_size=(120,120))\n",
        "img1 = image.img_to_array(img1)\n",
        "img1 = np.expand_dims(img1,axis=0)\n",
        "pred = np.argmax(model.predict(img1))\n",
        "print(pred)\n",
        "print(output[pred])"
      ],
      "metadata": {
        "id": "E8yx9uZRf8fV",
        "colab": {
          "base_uri": "https://localhost:8080/"
        },
        "outputId": "cccdb1f8-dde3-4a4e-cc7a-eb140219d999"
      },
      "execution_count": null,
      "outputs": [
        {
          "output_type": "stream",
          "name": "stdout",
          "text": [
            "1/1 [==============================] - 0s 20ms/step\n",
            "8\n",
            "himbul\n"
          ]
        }
      ]
    },
    {
      "cell_type": "code",
      "source": [
        "#Model Tuning ( Adding Feature extraction layrrs)\n",
        "model = Sequential([\n",
        "    Convolution2D(15,(3,3),activation = 'relu',input_shape=(120,120,3)),\n",
        "    MaxPooling2D(2,2),\n",
        "    Convolution2D(30,(3,3),activation = 'relu'),\n",
        "    MaxPooling2D(2,2),\n",
        "    Convolution2D(45,(3,3),activation = 'relu'),\n",
        "    MaxPooling2D(2,2),\n",
        "    Convolution2D(60,(3,3),activation = 'relu',input_shape=(120,120,3)),\n",
        "    MaxPooling2D(2,2),\n",
        "    Convolution2D(75,(3,3),activation = 'relu',input_shape=(120,120,3)),\n",
        "    MaxPooling2D(2,2),\n",
        "    Flatten(),\n",
        "    Dense(62,activation = 'relu'),\n",
        "    Dense(32,activation = 'relu'),\n",
        "    Dense(16,activation = 'relu'),\n",
        "    Dense(16,activation = 'softmax')\n",
        "])"
      ],
      "metadata": {
        "id": "qMk8ug5yg6_K"
      },
      "execution_count": null,
      "outputs": []
    },
    {
      "cell_type": "code",
      "source": [
        "model.compile(optimizer='adam',metrics=['accuracy'],loss='categorical_crossentropy')"
      ],
      "metadata": {
        "id": "PxahYQR0w-jk"
      },
      "execution_count": null,
      "outputs": []
    },
    {
      "cell_type": "code",
      "source": [
        "model_fit = model.fit(train,epochs = 20,\n",
        "                     validation_data = test ,\n",
        "                      batch_size=5)"
      ],
      "metadata": {
        "id": "Vw73Z9utxDmd",
        "colab": {
          "base_uri": "https://localhost:8080/"
        },
        "outputId": "026cee4c-6c46-4db6-da20-fa08911ddfaf"
      },
      "execution_count": null,
      "outputs": [
        {
          "output_type": "stream",
          "name": "stdout",
          "text": [
            "Epoch 1/20\n",
            "19/19 [==============================] - 95s 5s/step - loss: 2.7593 - accuracy: 0.0667 - val_loss: 2.7322 - val_accuracy: 0.0701\n",
            "Epoch 2/20\n",
            "19/19 [==============================] - 88s 5s/step - loss: 2.7467 - accuracy: 0.0667 - val_loss: 2.7295 - val_accuracy: 0.0701\n",
            "Epoch 3/20\n",
            "19/19 [==============================] - 87s 5s/step - loss: 2.7308 - accuracy: 0.0667 - val_loss: 2.7206 - val_accuracy: 0.1274\n",
            "Epoch 4/20\n",
            "19/19 [==============================] - 87s 5s/step - loss: 2.7132 - accuracy: 0.1000 - val_loss: 2.7155 - val_accuracy: 0.1274\n",
            "Epoch 5/20\n",
            "19/19 [==============================] - 86s 5s/step - loss: 2.7118 - accuracy: 0.1333 - val_loss: 2.7278 - val_accuracy: 0.1274\n",
            "Epoch 6/20\n",
            "19/19 [==============================] - 88s 5s/step - loss: 2.7039 - accuracy: 0.1333 - val_loss: 2.7234 - val_accuracy: 0.1274\n",
            "Epoch 7/20\n",
            "19/19 [==============================] - 87s 5s/step - loss: 2.6844 - accuracy: 0.1333 - val_loss: 2.7312 - val_accuracy: 0.1274\n",
            "Epoch 8/20\n",
            "19/19 [==============================] - 86s 5s/step - loss: 2.6361 - accuracy: 0.1267 - val_loss: 2.8734 - val_accuracy: 0.1274\n",
            "Epoch 9/20\n",
            "19/19 [==============================] - 89s 5s/step - loss: 2.6154 - accuracy: 0.1800 - val_loss: 2.7181 - val_accuracy: 0.1975\n",
            "Epoch 10/20\n",
            "19/19 [==============================] - 86s 5s/step - loss: 2.5571 - accuracy: 0.2133 - val_loss: 2.7207 - val_accuracy: 0.1847\n",
            "Epoch 11/20\n",
            "19/19 [==============================] - 119s 7s/step - loss: 2.5342 - accuracy: 0.1667 - val_loss: 2.7487 - val_accuracy: 0.1783\n",
            "Epoch 12/20\n",
            "19/19 [==============================] - 89s 5s/step - loss: 2.5202 - accuracy: 0.2200 - val_loss: 2.7391 - val_accuracy: 0.1783\n",
            "Epoch 13/20\n",
            "19/19 [==============================] - 86s 5s/step - loss: 2.4879 - accuracy: 0.1933 - val_loss: 2.7480 - val_accuracy: 0.1783\n",
            "Epoch 14/20\n",
            "19/19 [==============================] - 88s 5s/step - loss: 2.4723 - accuracy: 0.2133 - val_loss: 2.7244 - val_accuracy: 0.1210\n",
            "Epoch 15/20\n",
            "19/19 [==============================] - 88s 5s/step - loss: 2.4571 - accuracy: 0.2267 - val_loss: 2.7280 - val_accuracy: 0.1338\n",
            "Epoch 16/20\n",
            "19/19 [==============================] - 88s 5s/step - loss: 2.4159 - accuracy: 0.2467 - val_loss: 2.6695 - val_accuracy: 0.1529\n",
            "Epoch 17/20\n",
            "19/19 [==============================] - 89s 5s/step - loss: 2.3140 - accuracy: 0.2800 - val_loss: 2.8421 - val_accuracy: 0.2102\n",
            "Epoch 18/20\n",
            "19/19 [==============================] - 86s 5s/step - loss: 2.2974 - accuracy: 0.2800 - val_loss: 2.7394 - val_accuracy: 0.1465\n",
            "Epoch 19/20\n",
            "19/19 [==============================] - 86s 5s/step - loss: 2.3060 - accuracy: 0.2733 - val_loss: 2.6892 - val_accuracy: 0.1847\n",
            "Epoch 20/20\n",
            "19/19 [==============================] - 119s 6s/step - loss: 2.2817 - accuracy: 0.2800 - val_loss: 2.8424 - val_accuracy: 0.1592\n"
          ]
        }
      ]
    },
    {
      "cell_type": "code",
      "source": [
        "img1 = image.load_img(\"/content/train_data/train_data/himbul/100_5029.JPG\",target_size=(120,120))\n",
        "img1 = image.img_to_array(img1)\n",
        "img1 = np.expand_dims(img1,axis=0)\n",
        "pred = np.argmax(model.predict(img1))\n",
        "print(pred)\n",
        "print(output[pred])"
      ],
      "metadata": {
        "id": "Ci0G4L-gxJDX",
        "colab": {
          "base_uri": "https://localhost:8080/"
        },
        "outputId": "1b372ffd-0568-472f-d4d8-5e6d19a6150c"
      },
      "execution_count": null,
      "outputs": [
        {
          "output_type": "stream",
          "name": "stdout",
          "text": [
            "1/1 [==============================] - 0s 236ms/step\n",
            "7\n",
            "himgri\n"
          ]
        }
      ]
    },
    {
      "cell_type": "code",
      "source": [
        "img1 = image.load_img(\"/content/train_data/train_data/gretit/100_5043.JPG\",target_size=(120,120))\n",
        "img1 = image.img_to_array(img1)\n",
        "img1 = np.expand_dims(img1,axis=0)\n",
        "pred = np.argmax(model.predict(img1))\n",
        "print(pred)\n",
        "print(output[pred])"
      ],
      "metadata": {
        "id": "-XvKe48AxOO1",
        "colab": {
          "base_uri": "https://localhost:8080/"
        },
        "outputId": "a059f1ba-2a88-49b1-f3d6-8071b3387679"
      },
      "execution_count": null,
      "outputs": [
        {
          "output_type": "stream",
          "name": "stdout",
          "text": [
            "1/1 [==============================] - 0s 21ms/step\n",
            "14\n",
            "brhkyt\n"
          ]
        }
      ]
    },
    {
      "cell_type": "code",
      "source": [
        "img1 = image.load_img(\"/content/train_data/train_data/mgprob/100_5590.JPG\",target_size=(120,120))\n",
        "img1 = image.img_to_array(img1)\n",
        "img1 = np.expand_dims(img1,axis=0)\n",
        "pred = np.argmax(model.predict(img1))\n",
        "print(pred)\n",
        "print(output[pred])"
      ],
      "metadata": {
        "id": "bOcoiOCoxRzt",
        "colab": {
          "base_uri": "https://localhost:8080/"
        },
        "outputId": "4e17599c-ef43-4bfb-eab6-42583287db9b"
      },
      "execution_count": null,
      "outputs": [
        {
          "output_type": "stream",
          "name": "stdout",
          "text": [
            "1/1 [==============================] - 0s 23ms/step\n",
            "7\n",
            "himgri\n"
          ]
        }
      ]
    },
    {
      "cell_type": "code",
      "source": [
        "#Model Tuning(with Drop out , batch normalisation , early stopping)\n",
        "from tensorflow.keras.layers import BatchNormalization,Dropout"
      ],
      "metadata": {
        "id": "d1mdyHmixVLk"
      },
      "execution_count": null,
      "outputs": []
    },
    {
      "cell_type": "code",
      "source": [
        "model = Sequential([\n",
        "    Convolution2D(12,(3,3),activation = 'relu',input_shape=(120,120,3)),\n",
        "    BatchNormalization(),\n",
        "    MaxPooling2D(2,2),\n",
        "    Dropout(0.2),\n",
        "    Convolution2D(24,(3,3),activation = 'relu'),\n",
        "    BatchNormalization(),\n",
        "    MaxPooling2D(2,2),\n",
        "    Dropout(0.2),\n",
        "    Convolution2D(36,(3,3),activation = 'relu'),\n",
        "    BatchNormalization(),\n",
        "    MaxPooling2D(2,2),\n",
        "    Dropout(0.2),\n",
        "    Flatten(),\n",
        "    Dense(62,activation = 'relu'),\n",
        "    BatchNormalization(),\n",
        "    Dropout(0.1),\n",
        "    Dense(32,activation = 'relu'),\n",
        "    Dense(16,activation = 'relu'),\n",
        "    Dense(16,activation = 'softmax')\n",
        "])"
      ],
      "metadata": {
        "id": "_xH0LHz4xdeP"
      },
      "execution_count": null,
      "outputs": []
    },
    {
      "cell_type": "code",
      "source": [
        "model.compile(optimizer='adam',metrics=['accuracy'],loss='categorical_crossentropy')"
      ],
      "metadata": {
        "id": "hfkM3HFsxf7O"
      },
      "execution_count": null,
      "outputs": []
    },
    {
      "cell_type": "code",
      "source": [
        "# Early stopping\n",
        "from tensorflow.keras.callbacks import EarlyStopping"
      ],
      "metadata": {
        "id": "1MqMTgsbxhoU"
      },
      "execution_count": null,
      "outputs": []
    },
    {
      "cell_type": "code",
      "source": [
        "early_stop = EarlyStopping(monitor = 'val_accuracy',patience = 8)"
      ],
      "metadata": {
        "id": "qODq52FXxjk1"
      },
      "execution_count": null,
      "outputs": []
    },
    {
      "cell_type": "code",
      "source": [
        "model_fit = model.fit(train,epochs =20,\n",
        "                     validation_data = test ,\n",
        "                      batch_size=5,\n",
        "                      callbacks=early_stop)"
      ],
      "metadata": {
        "id": "_kG8_iAtxlSp",
        "colab": {
          "base_uri": "https://localhost:8080/"
        },
        "outputId": "0835c5c5-3b26-49f9-be22-687b78766a5c"
      },
      "execution_count": null,
      "outputs": [
        {
          "output_type": "stream",
          "name": "stdout",
          "text": [
            "Epoch 1/20\n",
            "19/19 [==============================] - 91s 5s/step - loss: 1.1309 - accuracy: 0.7133 - val_loss: 3.1548 - val_accuracy: 0.1401\n",
            "Epoch 2/20\n",
            "19/19 [==============================] - 87s 5s/step - loss: 1.2022 - accuracy: 0.6267 - val_loss: 3.5287 - val_accuracy: 0.1465\n",
            "Epoch 3/20\n",
            "19/19 [==============================] - 89s 5s/step - loss: 1.1984 - accuracy: 0.6467 - val_loss: 3.6953 - val_accuracy: 0.1146\n",
            "Epoch 4/20\n",
            "19/19 [==============================] - 119s 7s/step - loss: 1.0555 - accuracy: 0.7067 - val_loss: 3.3541 - val_accuracy: 0.1465\n",
            "Epoch 5/20\n",
            "19/19 [==============================] - 86s 5s/step - loss: 0.9397 - accuracy: 0.7333 - val_loss: 3.5003 - val_accuracy: 0.1529\n",
            "Epoch 6/20\n",
            "19/19 [==============================] - 88s 5s/step - loss: 0.8979 - accuracy: 0.7800 - val_loss: 3.3097 - val_accuracy: 0.1592\n",
            "Epoch 7/20\n",
            "19/19 [==============================] - 87s 5s/step - loss: 0.9422 - accuracy: 0.7067 - val_loss: 3.4377 - val_accuracy: 0.1592\n",
            "Epoch 8/20\n",
            "19/19 [==============================] - 86s 5s/step - loss: 0.8289 - accuracy: 0.7400 - val_loss: 3.2120 - val_accuracy: 0.1592\n",
            "Epoch 9/20\n",
            "19/19 [==============================] - 88s 5s/step - loss: 0.9086 - accuracy: 0.7800 - val_loss: 3.9487 - val_accuracy: 0.1401\n",
            "Epoch 10/20\n",
            "19/19 [==============================] - 120s 7s/step - loss: 0.9659 - accuracy: 0.7200 - val_loss: 3.4562 - val_accuracy: 0.1401\n",
            "Epoch 11/20\n",
            "19/19 [==============================] - 119s 7s/step - loss: 0.7387 - accuracy: 0.7867 - val_loss: 3.5648 - val_accuracy: 0.1911\n",
            "Epoch 12/20\n",
            "19/19 [==============================] - 90s 5s/step - loss: 0.7330 - accuracy: 0.7800 - val_loss: 3.5853 - val_accuracy: 0.1847\n",
            "Epoch 13/20\n",
            "19/19 [==============================] - 89s 5s/step - loss: 0.6030 - accuracy: 0.8067 - val_loss: 3.5420 - val_accuracy: 0.1847\n",
            "Epoch 14/20\n",
            "19/19 [==============================] - 90s 5s/step - loss: 0.6041 - accuracy: 0.8267 - val_loss: 3.4391 - val_accuracy: 0.1592\n",
            "Epoch 15/20\n",
            "19/19 [==============================] - 91s 5s/step - loss: 0.6152 - accuracy: 0.8000 - val_loss: 3.3813 - val_accuracy: 0.1720\n",
            "Epoch 16/20\n",
            "19/19 [==============================] - 89s 5s/step - loss: 0.5829 - accuracy: 0.8400 - val_loss: 3.1685 - val_accuracy: 0.2484\n",
            "Epoch 17/20\n",
            "19/19 [==============================] - 89s 5s/step - loss: 0.6016 - accuracy: 0.8267 - val_loss: 3.2628 - val_accuracy: 0.1592\n",
            "Epoch 18/20\n",
            "19/19 [==============================] - 88s 5s/step - loss: 0.4693 - accuracy: 0.8400 - val_loss: 3.5725 - val_accuracy: 0.1019\n",
            "Epoch 19/20\n",
            "19/19 [==============================] - 88s 5s/step - loss: 0.4308 - accuracy: 0.8933 - val_loss: 3.2833 - val_accuracy: 0.2229\n",
            "Epoch 20/20\n",
            "19/19 [==============================] - 88s 5s/step - loss: 0.3857 - accuracy: 0.9000 - val_loss: 4.5358 - val_accuracy: 0.1465\n"
          ]
        }
      ]
    },
    {
      "cell_type": "code",
      "source": [
        "img1 = image.load_img(\"/content/train_data/train_data/himbul/100_5029.JPG\",target_size=(120,120))\n",
        "img1 = image.img_to_array(img1)\n",
        "img1 = np.expand_dims(img1,axis=0)\n",
        "pred = np.argmax(model.predict(img1))\n",
        "print(pred)\n",
        "print(output[pred])"
      ],
      "metadata": {
        "colab": {
          "base_uri": "https://localhost:8080/"
        },
        "id": "C_AOVgiMwL3C",
        "outputId": "7dca48fc-00e6-4b0b-de22-a2549b4b037e"
      },
      "execution_count": null,
      "outputs": [
        {
          "output_type": "stream",
          "name": "stdout",
          "text": [
            "1/1 [==============================] - 0s 213ms/step\n",
            "8\n",
            "himbul\n"
          ]
        }
      ]
    },
    {
      "cell_type": "code",
      "source": [
        "img1 = image.load_img(\"/content/train_data/train_data/gretit/100_5043.JPG\",target_size=(120,120))\n",
        "img1 = image.img_to_array(img1)\n",
        "img1 = np.expand_dims(img1,axis=0)\n",
        "pred = np.argmax(model.predict(img1))\n",
        "print(pred)\n",
        "print(output[pred])"
      ],
      "metadata": {
        "colab": {
          "base_uri": "https://localhost:8080/"
        },
        "id": "jqhF4cYuE9IA",
        "outputId": "9e9c5d6a-1371-4bf4-eff4-5f662e84703e"
      },
      "execution_count": null,
      "outputs": [
        {
          "output_type": "stream",
          "name": "stdout",
          "text": [
            "1/1 [==============================] - 0s 27ms/step\n",
            "8\n",
            "himbul\n"
          ]
        }
      ]
    },
    {
      "cell_type": "code",
      "source": [
        "img1 = image.load_img(\"/content/train_data/train_data/mgprob/100_5590.JPG\",target_size=(120,120))\n",
        "img1 = image.img_to_array(img1)\n",
        "img1 = np.expand_dims(img1,axis=0)\n",
        "pred = np.argmax(model.predict(img1))\n",
        "print(pred)\n",
        "print(output[pred])"
      ],
      "metadata": {
        "colab": {
          "base_uri": "https://localhost:8080/"
        },
        "id": "ZK3Bxxo2E98F",
        "outputId": "ce1a122d-7a41-47ca-aa1d-d590083be5ce"
      },
      "execution_count": null,
      "outputs": [
        {
          "output_type": "stream",
          "name": "stdout",
          "text": [
            "1/1 [==============================] - 0s 28ms/step\n",
            "8\n",
            "himbul\n"
          ]
        }
      ]
    },
    {
      "cell_type": "code",
      "source": [],
      "metadata": {
        "id": "g5eFZEoBFE15"
      },
      "execution_count": null,
      "outputs": []
    }
  ]
}