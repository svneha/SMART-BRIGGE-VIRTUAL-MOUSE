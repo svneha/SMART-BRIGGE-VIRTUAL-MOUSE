{
  "nbformat": 4,
  "nbformat_minor": 0,
  "metadata": {
    "colab": {
      "provenance": []
    },
    "kernelspec": {
      "name": "python3",
      "display_name": "Python 3"
    },
    "language_info": {
      "name": "python"
    }
  },
  "cells": [
    {
      "cell_type": "code",
      "execution_count": null,
      "metadata": {
        "colab": {
          "base_uri": "https://localhost:8080/"
        },
        "id": "2gTRGLUjcfBV",
        "outputId": "1d991c91-273a-4fd3-ce15-109ffa69e3f3"
      },
      "outputs": [
        {
          "output_type": "stream",
          "name": "stdout",
          "text": [
            "               Feature 1  Feature 2  Feature 3  Feature 4\n",
            "Observation 1   0.802783   0.272147   0.183158   0.876179\n",
            "Observation 2   0.425675   0.526983   0.488724   0.772241\n",
            "Observation 3   0.290504   0.565720   0.360544   0.021478\n",
            "Observation 4   0.055558   0.738431   0.022218   0.420235\n"
          ]
        }
      ],
      "source": [
        "import numpy as np\n",
        "import pandas as pd\n",
        "#generatung random values\n",
        "d = np.random.rand(4, 4)\n",
        "# Creating a DataFrame\n",
        "df = pd.DataFrame(d, columns=['Feature 1', 'Feature 2', 'Feature 3', 'Feature 4'], index = ['Observation 1','Observation 2','Observation 3','Observation 4'])\n",
        "# Print the DataFrame\n",
        "print(df)"
      ]
    },
    {
      "cell_type": "code",
      "source": [
        "import numpy as np\n",
        "import pandas as pd\n",
        "#Renaming Columns\n",
        "df = df.rename(columns = {'Feature 1' : 'Random Value 1',\n",
        "                          'Feature 2' : 'Random Value 2',\n",
        "                          'Feature 3' : 'Random Value 3',\n",
        "                          'Feature 4' : 'Random Value 4'})\n",
        "# Print the DataFrame\n",
        "print(df)"
      ],
      "metadata": {
        "colab": {
          "base_uri": "https://localhost:8080/"
        },
        "id": "XKiLaDE5ckrO",
        "outputId": "db91290d-1d11-4f8b-fafe-618e9709cfe8"
      },
      "execution_count": null,
      "outputs": [
        {
          "output_type": "stream",
          "name": "stdout",
          "text": [
            "               Random Value 1  Random Value 2  Random Value 3  Random Value 4\n",
            "Observation 1        0.802783        0.272147        0.183158        0.876179\n",
            "Observation 2        0.425675        0.526983        0.488724        0.772241\n",
            "Observation 3        0.290504        0.565720        0.360544        0.021478\n",
            "Observation 4        0.055558        0.738431        0.022218        0.420235\n"
          ]
        }
      ]
    },
    {
      "cell_type": "code",
      "source": [
        "import numpy as np\n",
        "import pandas as pd\n",
        "#Statistical Description\n",
        "stat = df.describe()\n",
        "# Print the DataFrame\n",
        "print(df)\n",
        "print('\\n')\n",
        "print(stat)"
      ],
      "metadata": {
        "colab": {
          "base_uri": "https://localhost:8080/"
        },
        "id": "-o8HjYgVcm-I",
        "outputId": "e3ac7534-fb76-4ad4-8267-02923f9ade7f"
      },
      "execution_count": null,
      "outputs": [
        {
          "output_type": "stream",
          "name": "stdout",
          "text": [
            "               Random Value 1  Random Value 2  Random Value 3  Random Value 4\n",
            "Observation 1        0.802783        0.272147        0.183158        0.876179\n",
            "Observation 2        0.425675        0.526983        0.488724        0.772241\n",
            "Observation 3        0.290504        0.565720        0.360544        0.021478\n",
            "Observation 4        0.055558        0.738431        0.022218        0.420235\n",
            "\n",
            "\n",
            "       Random Value 1  Random Value 2  Random Value 3  Random Value 4\n",
            "count        4.000000        4.000000        4.000000        4.000000\n",
            "mean         0.393630        0.525820        0.263661        0.522533\n",
            "std          0.312709        0.192481        0.203973        0.386842\n",
            "min          0.055558        0.272147        0.022218        0.021478\n",
            "25%          0.231767        0.463274        0.142923        0.320546\n",
            "50%          0.358090        0.546351        0.271851        0.596238\n",
            "75%          0.519952        0.608898        0.392589        0.798225\n",
            "max          0.802783        0.738431        0.488724        0.876179\n"
          ]
        }
      ]
    },
    {
      "cell_type": "code",
      "source": [
        "import numpy as np\n",
        "import pandas as pd\n",
        "#Checking NULL values\n",
        "null_val = df.isnull().sum()\n",
        "#Checking Data types\n",
        "data_type = df.dtypes\n",
        "# Print the DataFrame\n",
        "print(null_val)\n",
        "print('\\n')\n",
        "print(data_type)"
      ],
      "metadata": {
        "colab": {
          "base_uri": "https://localhost:8080/"
        },
        "id": "i13IV8p1cpvx",
        "outputId": "4fa6c117-c860-4ec8-dac4-920719a2236f"
      },
      "execution_count": null,
      "outputs": [
        {
          "output_type": "stream",
          "name": "stdout",
          "text": [
            "Random Value 1    0\n",
            "Random Value 2    0\n",
            "Random Value 3    0\n",
            "Random Value 4    0\n",
            "dtype: int64\n",
            "\n",
            "\n",
            "Random Value 1    float64\n",
            "Random Value 2    float64\n",
            "Random Value 3    float64\n",
            "Random Value 4    float64\n",
            "dtype: object\n"
          ]
        }
      ]
    },
    {
      "cell_type": "code",
      "source": [
        "import numpy as np\n",
        "import pandas as pd\n",
        "# Display columns using the location method\n",
        "location_method = df[['Random Value 2', 'Random Value 3']]\n",
        "print(\"Columns using location method:\")\n",
        "print(location_method)\n",
        "# Display columns using the index location method\n",
        "index_location_method = df.iloc[:, 1:3]\n",
        "print(\"\\nColumns using index location method :\")\n",
        "print(index_location_method)"
      ],
      "metadata": {
        "colab": {
          "base_uri": "https://localhost:8080/"
        },
        "id": "4ZD3zPXncsok",
        "outputId": "bbcbc10d-3eb3-431e-86df-86d808ded63c"
      },
      "execution_count": null,
      "outputs": [
        {
          "output_type": "stream",
          "name": "stdout",
          "text": [
            "Columns using location method:\n",
            "               Random Value 2  Random Value 3\n",
            "Observation 1        0.272147        0.183158\n",
            "Observation 2        0.526983        0.488724\n",
            "Observation 3        0.565720        0.360544\n",
            "Observation 4        0.738431        0.022218\n",
            "\n",
            "Columns using index location method :\n",
            "               Random Value 2  Random Value 3\n",
            "Observation 1        0.272147        0.183158\n",
            "Observation 2        0.526983        0.488724\n",
            "Observation 3        0.565720        0.360544\n",
            "Observation 4        0.738431        0.022218\n"
          ]
        }
      ]
    },
    {
      "cell_type": "code",
      "source": [],
      "metadata": {
        "id": "dZbePw59cusi"
      },
      "execution_count": null,
      "outputs": []
    }
  ]
}