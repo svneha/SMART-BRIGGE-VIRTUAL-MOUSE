{
  "nbformat": 4,
  "nbformat_minor": 0,
  "metadata": {
    "colab": {
      "provenance": []
    },
    "kernelspec": {
      "name": "python3",
      "display_name": "Python 3"
    },
    "language_info": {
      "name": "python"
    }
  },
  "cells": [
    {
      "cell_type": "markdown",
      "source": [
        "CHANDRAGIRI NIKHITHA"
      ],
      "metadata": {
        "id": "2rhU06bGctqv"
      }
    },
    {
      "cell_type": "markdown",
      "source": [
        "AI ASSIGNMENT 2"
      ],
      "metadata": {
        "id": "MBgNZCnpcx2K"
      }
    },
    {
      "cell_type": "code",
      "execution_count": 93,
      "metadata": {
        "id": "TA376q4QPZOa"
      },
      "outputs": [],
      "source": [
        "import numpy as np\n",
        "import pandas as pd\n",
        "import seaborn as sns\n",
        "import matplotlib.pyplot as plt\n",
        "import plotly.express as px\n",
        "import warnings\n",
        "warnings.filterwarnings('ignore')\n",
        "from sklearn.model_selection import train_test_split\n",
        "from keras.models import Sequential\n",
        "from keras.layers import Dense,Activation\n",
        "from sklearn.preprocessing import LabelEncoder\n",
        "from sklearn.preprocessing import StandardScaler"
      ]
    },
    {
      "cell_type": "markdown",
      "source": [
        "TASK 1: DATA PRE-PROCESSING"
      ],
      "metadata": {
        "id": "-9xFPC-ZbtoU"
      }
    },
    {
      "cell_type": "code",
      "source": [
        "#Task 1: Data Pre-processing\n",
        "# Read the dataset\n",
        "df = pd.read_csv('drug200.csv')"
      ],
      "metadata": {
        "id": "od96kesQPrL5"
      },
      "execution_count": 94,
      "outputs": []
    },
    {
      "cell_type": "code",
      "source": [
        "df.isnull().any()\n",
        "df.isnull().sum()\n",
        "print(df.head())"
      ],
      "metadata": {
        "colab": {
          "base_uri": "https://localhost:8080/"
        },
        "id": "6XEnSMcNPrOL",
        "outputId": "a6aec543-b0df-47ce-dc68-a1a7c632de40"
      },
      "execution_count": 95,
      "outputs": [
        {
          "output_type": "stream",
          "name": "stdout",
          "text": [
            "   Age Sex      BP Cholesterol  Na_to_K   Drug\n",
            "0   23   F    HIGH        HIGH   25.355  DrugY\n",
            "1   47   M     LOW        HIGH   13.093  drugC\n",
            "2   47   M     LOW        HIGH   10.114  drugC\n",
            "3   28   F  NORMAL        HIGH    7.798  drugX\n",
            "4   61   F     LOW        HIGH   18.043  DrugY\n"
          ]
        }
      ]
    },
    {
      "cell_type": "code",
      "source": [
        "df.describe(include = 'all')"
      ],
      "metadata": {
        "colab": {
          "base_uri": "https://localhost:8080/",
          "height": 394
        },
        "id": "8ej8_-XkPrQb",
        "outputId": "34b4d1a4-36be-469f-e420-e52990b4b974"
      },
      "execution_count": 96,
      "outputs": [
        {
          "output_type": "execute_result",
          "data": {
            "text/plain": [
              "               Age  Sex    BP Cholesterol     Na_to_K   Drug\n",
              "count   200.000000  200   200         200  200.000000    200\n",
              "unique         NaN    2     3           2         NaN      5\n",
              "top            NaN    M  HIGH        HIGH         NaN  DrugY\n",
              "freq           NaN  104    77         103         NaN     91\n",
              "mean     44.315000  NaN   NaN         NaN   16.084485    NaN\n",
              "std      16.544315  NaN   NaN         NaN    7.223956    NaN\n",
              "min      15.000000  NaN   NaN         NaN    6.269000    NaN\n",
              "25%      31.000000  NaN   NaN         NaN   10.445500    NaN\n",
              "50%      45.000000  NaN   NaN         NaN   13.936500    NaN\n",
              "75%      58.000000  NaN   NaN         NaN   19.380000    NaN\n",
              "max      74.000000  NaN   NaN         NaN   38.247000    NaN"
            ],
            "text/html": [
              "\n",
              "  <div id=\"df-919c1259-52ef-4910-bf52-3c68114d4915\">\n",
              "    <div class=\"colab-df-container\">\n",
              "      <div>\n",
              "<style scoped>\n",
              "    .dataframe tbody tr th:only-of-type {\n",
              "        vertical-align: middle;\n",
              "    }\n",
              "\n",
              "    .dataframe tbody tr th {\n",
              "        vertical-align: top;\n",
              "    }\n",
              "\n",
              "    .dataframe thead th {\n",
              "        text-align: right;\n",
              "    }\n",
              "</style>\n",
              "<table border=\"1\" class=\"dataframe\">\n",
              "  <thead>\n",
              "    <tr style=\"text-align: right;\">\n",
              "      <th></th>\n",
              "      <th>Age</th>\n",
              "      <th>Sex</th>\n",
              "      <th>BP</th>\n",
              "      <th>Cholesterol</th>\n",
              "      <th>Na_to_K</th>\n",
              "      <th>Drug</th>\n",
              "    </tr>\n",
              "  </thead>\n",
              "  <tbody>\n",
              "    <tr>\n",
              "      <th>count</th>\n",
              "      <td>200.000000</td>\n",
              "      <td>200</td>\n",
              "      <td>200</td>\n",
              "      <td>200</td>\n",
              "      <td>200.000000</td>\n",
              "      <td>200</td>\n",
              "    </tr>\n",
              "    <tr>\n",
              "      <th>unique</th>\n",
              "      <td>NaN</td>\n",
              "      <td>2</td>\n",
              "      <td>3</td>\n",
              "      <td>2</td>\n",
              "      <td>NaN</td>\n",
              "      <td>5</td>\n",
              "    </tr>\n",
              "    <tr>\n",
              "      <th>top</th>\n",
              "      <td>NaN</td>\n",
              "      <td>M</td>\n",
              "      <td>HIGH</td>\n",
              "      <td>HIGH</td>\n",
              "      <td>NaN</td>\n",
              "      <td>DrugY</td>\n",
              "    </tr>\n",
              "    <tr>\n",
              "      <th>freq</th>\n",
              "      <td>NaN</td>\n",
              "      <td>104</td>\n",
              "      <td>77</td>\n",
              "      <td>103</td>\n",
              "      <td>NaN</td>\n",
              "      <td>91</td>\n",
              "    </tr>\n",
              "    <tr>\n",
              "      <th>mean</th>\n",
              "      <td>44.315000</td>\n",
              "      <td>NaN</td>\n",
              "      <td>NaN</td>\n",
              "      <td>NaN</td>\n",
              "      <td>16.084485</td>\n",
              "      <td>NaN</td>\n",
              "    </tr>\n",
              "    <tr>\n",
              "      <th>std</th>\n",
              "      <td>16.544315</td>\n",
              "      <td>NaN</td>\n",
              "      <td>NaN</td>\n",
              "      <td>NaN</td>\n",
              "      <td>7.223956</td>\n",
              "      <td>NaN</td>\n",
              "    </tr>\n",
              "    <tr>\n",
              "      <th>min</th>\n",
              "      <td>15.000000</td>\n",
              "      <td>NaN</td>\n",
              "      <td>NaN</td>\n",
              "      <td>NaN</td>\n",
              "      <td>6.269000</td>\n",
              "      <td>NaN</td>\n",
              "    </tr>\n",
              "    <tr>\n",
              "      <th>25%</th>\n",
              "      <td>31.000000</td>\n",
              "      <td>NaN</td>\n",
              "      <td>NaN</td>\n",
              "      <td>NaN</td>\n",
              "      <td>10.445500</td>\n",
              "      <td>NaN</td>\n",
              "    </tr>\n",
              "    <tr>\n",
              "      <th>50%</th>\n",
              "      <td>45.000000</td>\n",
              "      <td>NaN</td>\n",
              "      <td>NaN</td>\n",
              "      <td>NaN</td>\n",
              "      <td>13.936500</td>\n",
              "      <td>NaN</td>\n",
              "    </tr>\n",
              "    <tr>\n",
              "      <th>75%</th>\n",
              "      <td>58.000000</td>\n",
              "      <td>NaN</td>\n",
              "      <td>NaN</td>\n",
              "      <td>NaN</td>\n",
              "      <td>19.380000</td>\n",
              "      <td>NaN</td>\n",
              "    </tr>\n",
              "    <tr>\n",
              "      <th>max</th>\n",
              "      <td>74.000000</td>\n",
              "      <td>NaN</td>\n",
              "      <td>NaN</td>\n",
              "      <td>NaN</td>\n",
              "      <td>38.247000</td>\n",
              "      <td>NaN</td>\n",
              "    </tr>\n",
              "  </tbody>\n",
              "</table>\n",
              "</div>\n",
              "      <button class=\"colab-df-convert\" onclick=\"convertToInteractive('df-919c1259-52ef-4910-bf52-3c68114d4915')\"\n",
              "              title=\"Convert this dataframe to an interactive table.\"\n",
              "              style=\"display:none;\">\n",
              "        \n",
              "  <svg xmlns=\"http://www.w3.org/2000/svg\" height=\"24px\"viewBox=\"0 0 24 24\"\n",
              "       width=\"24px\">\n",
              "    <path d=\"M0 0h24v24H0V0z\" fill=\"none\"/>\n",
              "    <path d=\"M18.56 5.44l.94 2.06.94-2.06 2.06-.94-2.06-.94-.94-2.06-.94 2.06-2.06.94zm-11 1L8.5 8.5l.94-2.06 2.06-.94-2.06-.94L8.5 2.5l-.94 2.06-2.06.94zm10 10l.94 2.06.94-2.06 2.06-.94-2.06-.94-.94-2.06-.94 2.06-2.06.94z\"/><path d=\"M17.41 7.96l-1.37-1.37c-.4-.4-.92-.59-1.43-.59-.52 0-1.04.2-1.43.59L10.3 9.45l-7.72 7.72c-.78.78-.78 2.05 0 2.83L4 21.41c.39.39.9.59 1.41.59.51 0 1.02-.2 1.41-.59l7.78-7.78 2.81-2.81c.8-.78.8-2.07 0-2.86zM5.41 20L4 18.59l7.72-7.72 1.47 1.35L5.41 20z\"/>\n",
              "  </svg>\n",
              "      </button>\n",
              "      \n",
              "  <style>\n",
              "    .colab-df-container {\n",
              "      display:flex;\n",
              "      flex-wrap:wrap;\n",
              "      gap: 12px;\n",
              "    }\n",
              "\n",
              "    .colab-df-convert {\n",
              "      background-color: #E8F0FE;\n",
              "      border: none;\n",
              "      border-radius: 50%;\n",
              "      cursor: pointer;\n",
              "      display: none;\n",
              "      fill: #1967D2;\n",
              "      height: 32px;\n",
              "      padding: 0 0 0 0;\n",
              "      width: 32px;\n",
              "    }\n",
              "\n",
              "    .colab-df-convert:hover {\n",
              "      background-color: #E2EBFA;\n",
              "      box-shadow: 0px 1px 2px rgba(60, 64, 67, 0.3), 0px 1px 3px 1px rgba(60, 64, 67, 0.15);\n",
              "      fill: #174EA6;\n",
              "    }\n",
              "\n",
              "    [theme=dark] .colab-df-convert {\n",
              "      background-color: #3B4455;\n",
              "      fill: #D2E3FC;\n",
              "    }\n",
              "\n",
              "    [theme=dark] .colab-df-convert:hover {\n",
              "      background-color: #434B5C;\n",
              "      box-shadow: 0px 1px 3px 1px rgba(0, 0, 0, 0.15);\n",
              "      filter: drop-shadow(0px 1px 2px rgba(0, 0, 0, 0.3));\n",
              "      fill: #FFFFFF;\n",
              "    }\n",
              "  </style>\n",
              "\n",
              "      <script>\n",
              "        const buttonEl =\n",
              "          document.querySelector('#df-919c1259-52ef-4910-bf52-3c68114d4915 button.colab-df-convert');\n",
              "        buttonEl.style.display =\n",
              "          google.colab.kernel.accessAllowed ? 'block' : 'none';\n",
              "\n",
              "        async function convertToInteractive(key) {\n",
              "          const element = document.querySelector('#df-919c1259-52ef-4910-bf52-3c68114d4915');\n",
              "          const dataTable =\n",
              "            await google.colab.kernel.invokeFunction('convertToInteractive',\n",
              "                                                     [key], {});\n",
              "          if (!dataTable) return;\n",
              "\n",
              "          const docLinkHtml = 'Like what you see? Visit the ' +\n",
              "            '<a target=\"_blank\" href=https://colab.research.google.com/notebooks/data_table.ipynb>data table notebook</a>'\n",
              "            + ' to learn more about interactive tables.';\n",
              "          element.innerHTML = '';\n",
              "          dataTable['output_type'] = 'display_data';\n",
              "          await google.colab.output.renderOutput(dataTable, element);\n",
              "          const docLink = document.createElement('div');\n",
              "          docLink.innerHTML = docLinkHtml;\n",
              "          element.appendChild(docLink);\n",
              "        }\n",
              "      </script>\n",
              "    </div>\n",
              "  </div>\n",
              "  "
            ]
          },
          "metadata": {},
          "execution_count": 96
        }
      ]
    },
    {
      "cell_type": "code",
      "source": [
        "df.info()"
      ],
      "metadata": {
        "colab": {
          "base_uri": "https://localhost:8080/"
        },
        "id": "rtoKsuPLPrS6",
        "outputId": "b9f7248b-90b4-420d-bb1d-ac5d50f3a7ae"
      },
      "execution_count": 97,
      "outputs": [
        {
          "output_type": "stream",
          "name": "stdout",
          "text": [
            "<class 'pandas.core.frame.DataFrame'>\n",
            "RangeIndex: 200 entries, 0 to 199\n",
            "Data columns (total 6 columns):\n",
            " #   Column       Non-Null Count  Dtype  \n",
            "---  ------       --------------  -----  \n",
            " 0   Age          200 non-null    int64  \n",
            " 1   Sex          200 non-null    object \n",
            " 2   BP           200 non-null    object \n",
            " 3   Cholesterol  200 non-null    object \n",
            " 4   Na_to_K      200 non-null    float64\n",
            " 5   Drug         200 non-null    object \n",
            "dtypes: float64(1), int64(1), object(4)\n",
            "memory usage: 9.5+ KB\n"
          ]
        }
      ]
    },
    {
      "cell_type": "code",
      "source": [
        "df['Drug'].unique"
      ],
      "metadata": {
        "colab": {
          "base_uri": "https://localhost:8080/"
        },
        "id": "Me2cswUgPrVJ",
        "outputId": "d81765c6-5df4-4a9c-8501-deeafac24ea2"
      },
      "execution_count": 98,
      "outputs": [
        {
          "output_type": "execute_result",
          "data": {
            "text/plain": [
              "<bound method Series.unique of 0      DrugY\n",
              "1      drugC\n",
              "2      drugC\n",
              "3      drugX\n",
              "4      DrugY\n",
              "       ...  \n",
              "195    drugC\n",
              "196    drugC\n",
              "197    drugX\n",
              "198    drugX\n",
              "199    drugX\n",
              "Name: Drug, Length: 200, dtype: object>"
            ]
          },
          "metadata": {},
          "execution_count": 98
        }
      ]
    },
    {
      "cell_type": "code",
      "source": [
        "df['Drug'].value_counts()"
      ],
      "metadata": {
        "colab": {
          "base_uri": "https://localhost:8080/"
        },
        "id": "BEGmZ4d4QAc3",
        "outputId": "96752b22-8158-48b1-f9fe-f9d7f3b14fe0"
      },
      "execution_count": 99,
      "outputs": [
        {
          "output_type": "execute_result",
          "data": {
            "text/plain": [
              "DrugY    91\n",
              "drugX    54\n",
              "drugA    23\n",
              "drugC    16\n",
              "drugB    16\n",
              "Name: Drug, dtype: int64"
            ]
          },
          "metadata": {},
          "execution_count": 99
        }
      ]
    },
    {
      "cell_type": "code",
      "source": [
        "sns.boxplot(df)"
      ],
      "metadata": {
        "colab": {
          "base_uri": "https://localhost:8080/",
          "height": 447
        },
        "id": "JTYF0k3dWdO-",
        "outputId": "f1b4ecc6-09c3-4c0e-b229-40adba4874c4"
      },
      "execution_count": 100,
      "outputs": [
        {
          "output_type": "execute_result",
          "data": {
            "text/plain": [
              "<Axes: >"
            ]
          },
          "metadata": {},
          "execution_count": 100
        },
        {
          "output_type": "display_data",
          "data": {
            "text/plain": [
              "<Figure size 640x480 with 1 Axes>"
            ],
            "image/png": "[encoded data removed]"
          },
          "metadata": {}
        }
      ]
    },
    {
      "cell_type": "code",
      "source": [
        "sns.heatmap(df.corr(),annot = True)"
      ],
      "metadata": {
        "colab": {
          "base_uri": "https://localhost:8080/",
          "height": 452
        },
        "id": "p-SHIEmxWhzb",
        "outputId": "02790b1f-8afe-4662-8762-cd5ee5b05b3d"
      },
      "execution_count": 101,
      "outputs": [
        {
          "output_type": "execute_result",
          "data": {
            "text/plain": [
              "<Axes: >"
            ]
          },
          "metadata": {},
          "execution_count": 101
        },
        {
          "output_type": "display_data",
          "data": {
            "text/plain": [
              "<Figure size 640x480 with 2 Axes>"
            ],
            "image/png": "[encoded data removed]"
          },
          "metadata": {}
        }
      ]
    },
    {
      "cell_type": "code",
      "source": [
        "sns.heatmap(df.cov(),annot=True)"
      ],
      "metadata": {
        "colab": {
          "base_uri": "https://localhost:8080/",
          "height": 447
        },
        "id": "Ktg2Q3OKW3P8",
        "outputId": "4aa60e16-0194-4688-f20d-d5fca5c3cb99"
      },
      "execution_count": 102,
      "outputs": [
        {
          "output_type": "execute_result",
          "data": {
            "text/plain": [
              "<Axes: >"
            ]
          },
          "metadata": {},
          "execution_count": 102
        },
        {
          "output_type": "display_data",
          "data": {
            "text/plain": [
              "<Figure size 640x480 with 2 Axes>"
            ],
            "image/png": "[encoded data removed]"
          },
          "metadata": {}
        }
      ]
    },
    {
      "cell_type": "code",
      "source": [
        "sns.distplot(df['Na_to_K'])"
      ],
      "metadata": {
        "colab": {
          "base_uri": "https://localhost:8080/",
          "height": 466
        },
        "id": "9RAkLOdsW6K3",
        "outputId": "a0975df6-5b30-437a-e481-fbd6290f624e"
      },
      "execution_count": 103,
      "outputs": [
        {
          "output_type": "execute_result",
          "data": {
            "text/plain": [
              "<Axes: xlabel='Na_to_K', ylabel='Density'>"
            ]
          },
          "metadata": {},
          "execution_count": 103
        },
        {
          "output_type": "display_data",
          "data": {
            "text/plain": [
              "<Figure size 640x480 with 1 Axes>"
            ],
            "image/png": "[encoded data removed]"
          },
          "metadata": {}
        }
      ]
    },
    {
      "cell_type": "code",
      "source": [
        "sns.lineplot(x = df['Age'],y = df['Na_to_K'])"
      ],
      "metadata": {
        "colab": {
          "base_uri": "https://localhost:8080/",
          "height": 466
        },
        "id": "Yp14u8z1XAzk",
        "outputId": "3be41dc2-7a7a-4971-a782-57f0eb872ee3"
      },
      "execution_count": 104,
      "outputs": [
        {
          "output_type": "execute_result",
          "data": {
            "text/plain": [
              "<Axes: xlabel='Age', ylabel='Na_to_K'>"
            ]
          },
          "metadata": {},
          "execution_count": 104
        },
        {
          "output_type": "display_data",
          "data": {
            "text/plain": [
              "<Figure size 640x480 with 1 Axes>"
            ],
            "image/png": "[encoded data removed]"
          },
          "metadata": {}
        }
      ]
    },
    {
      "cell_type": "code",
      "source": [
        "# Encode categorical variables\n",
        "le = LabelEncoder()\n",
        "df['Sex'] = le.fit_transform(df['Sex'])\n",
        "df['BP'] = le.fit_transform(df['BP'])\n",
        "df['Cholesterol'] = le.fit_transform(df['Cholesterol'])"
      ],
      "metadata": {
        "id": "Oabw-KGHXKhJ"
      },
      "execution_count": 105,
      "outputs": []
    },
    {
      "cell_type": "code",
      "source": [
        "# Normalize numerical variables\n",
        "scaler = StandardScaler()\n",
        "df[['Age', 'Na_to_K']] = scaler.fit_transform(df[['Age', 'Na_to_K']])"
      ],
      "metadata": {
        "id": "GxBDbqZOXKjd"
      },
      "execution_count": 106,
      "outputs": []
    },
    {
      "cell_type": "code",
      "source": [
        "#split dependent and independent \n",
        "x =df.iloc[:,:5].values\n",
        "x"
      ],
      "metadata": {
        "colab": {
          "base_uri": "https://localhost:8080/"
        },
        "id": "7iSiY_6OQAhJ",
        "outputId": "10116493-9d39-418e-ca3f-47f0ea5b6f65"
      },
      "execution_count": 107,
      "outputs": [
        {
          "output_type": "execute_result",
          "data": {
            "text/plain": [
              "array([[-1.29159102,  0.        ,  0.        ,  0.        ,  1.28652212],\n",
              "       [ 0.16269866,  1.        ,  1.        ,  0.        , -0.4151454 ],\n",
              "       [ 0.16269866,  1.        ,  1.        ,  0.        , -0.82855818],\n",
              "       [-0.988614  ,  0.        ,  2.        ,  0.        , -1.14996267],\n",
              "       [ 1.0110343 ,  0.        ,  1.        ,  0.        ,  0.27179427],\n",
              "       [-1.35218642,  0.        ,  2.        ,  0.        , -1.03769314],\n",
              "       [ 0.28388946,  0.        ,  2.        ,  0.        ,  0.02643885],\n",
              "       [-0.20087376,  1.        ,  1.        ,  0.        , -0.70046821],\n",
              "       [ 0.9504389 ,  1.        ,  2.        ,  0.        , -0.12676951],\n",
              "       [-0.07968296,  1.        ,  1.        ,  1.        ,  0.45567206],\n",
              "       [ 0.16269866,  0.        ,  1.        ,  0.        , -0.59916196],\n",
              "       [-0.62504158,  0.        ,  0.        ,  1.        ,  0.43221897],\n",
              "       [-0.07968296,  1.        ,  1.        ,  0.        , -0.09832049],\n",
              "       [ 1.79877454,  0.        ,  1.        ,  0.        ,  0.674105  ],\n",
              "       [ 0.34448487,  0.        ,  2.        ,  0.        , -0.46926791],\n",
              "       [-1.71575884,  0.        ,  0.        ,  1.        , -0.0788919 ],\n",
              "       [ 1.49579753,  1.        ,  1.        ,  1.        , -0.64245998],\n",
              "       [-0.07968296,  1.        ,  0.        ,  0.        , -0.29316156],\n",
              "       [-1.29159102,  1.        ,  1.        ,  0.        , -1.21935052],\n",
              "       [-0.74623239,  0.        ,  0.        ,  1.        ,  1.37242427],\n",
              "       [ 0.76865269,  1.        ,  1.        ,  1.        ,  0.42236589],\n",
              "       [ 1.13222511,  1.        ,  2.        ,  0.        ,  1.36451406],\n",
              "       [ 0.16269866,  1.        ,  1.        ,  1.        ,  2.00995979],\n",
              "       [ 0.22329406,  0.        ,  1.        ,  0.        , -0.14550423],\n",
              "       [-0.68563699,  0.        ,  1.        ,  0.        ,  2.41490725],\n",
              "       [-0.988614  ,  0.        ,  0.        ,  1.        ,  0.37809645],\n",
              "       [-0.80682779,  1.        ,  0.        ,  0.        ,  1.9819271 ],\n",
              "       [ 0.28388946,  0.        ,  2.        ,  1.        , -0.93028076],\n",
              "       [-0.32206457,  0.        ,  1.        ,  1.        ,  0.91765633],\n",
              "       [ 0.04150785,  1.        ,  1.        ,  0.        ,  0.25902691],\n",
              "       [-1.59456803,  0.        ,  2.        ,  1.        , -1.01784822],\n",
              "       [ 1.79877454,  1.        ,  0.        ,  0.        , -0.90446848],\n",
              "       [ 0.28388946,  1.        ,  1.        ,  1.        , -0.70366006],\n",
              "       [ 1.25341591,  0.        ,  0.        ,  1.        ,  2.19147839],\n",
              "       [ 0.52627108,  1.        ,  2.        ,  0.        , -0.27081868],\n",
              "       [ 0.10210325,  1.        ,  2.        ,  1.        , -1.2211546 ],\n",
              "       [-0.74623239,  1.        ,  0.        ,  1.        , -0.92139911],\n",
              "       [-0.32206457,  1.        ,  1.        ,  1.        , -0.29787994],\n",
              "       [-0.32206457,  0.        ,  2.        ,  1.        , -0.88476233],\n",
              "       [-1.77635424,  1.        ,  2.        ,  0.        , -0.97149714],\n",
              "       [ 1.73817914,  0.        ,  2.        ,  0.        ,  0.43527203],\n",
              "       [ 0.82924809,  0.        ,  0.        ,  1.        , -0.25610845],\n",
              "       [ 0.34448487,  1.        ,  2.        ,  1.        , -0.04086736],\n",
              "       [-1.29159102,  1.        ,  2.        ,  0.        , -0.53074555],\n",
              "       [ 0.34448487,  0.        ,  2.        ,  1.        , -0.5258884 ],\n",
              "       [ 1.31401132,  0.        ,  2.        ,  1.        , -1.10708099],\n",
              "       [-0.44325537,  0.        ,  0.        ,  0.        , -0.41542295],\n",
              "       [ 1.43520212,  1.        ,  1.        ,  0.        , -0.80399488],\n",
              "       [-1.29159102,  1.        ,  2.        ,  0.        ,  2.16511101],\n",
              "       [-0.988614  ,  0.        ,  1.        ,  0.        ,  0.51506806],\n",
              "       [ 0.82924809,  0.        ,  0.        ,  0.        ,  0.46233329],\n",
              "       [ 1.37460672,  1.        ,  2.        ,  1.        , -0.71975804],\n",
              "       [ 1.0716297 ,  1.        ,  1.        ,  1.        ,  1.54020408],\n",
              "       [-1.23099561,  0.        ,  0.        ,  1.        ,  0.32924741],\n",
              "       [ 1.43520212,  0.        ,  0.        ,  1.        , -0.81815   ],\n",
              "       [-1.10980481,  0.        ,  1.        ,  0.        , -0.26707173],\n",
              "       [ 1.25341591,  1.        ,  0.        ,  1.        , -0.65841918],\n",
              "       [-0.26146916,  1.        ,  0.        ,  0.        ,  1.62943685],\n",
              "       [ 0.9504389 ,  1.        ,  2.        ,  1.        , -0.83175002],\n",
              "       [-0.62504158,  1.        ,  0.        ,  0.        ,  0.36338623],\n",
              "       [-0.38265997,  0.        ,  1.        ,  1.        ,  1.91378824],\n",
              "       [-1.23099561,  1.        ,  0.        ,  1.        , -0.91723584],\n",
              "       [ 1.37460672,  1.        ,  1.        ,  1.        ,  0.63954985],\n",
              "       [ 0.04150785,  1.        ,  1.        ,  1.        , -1.07058298],\n",
              "       [ 0.9504389 ,  0.        ,  0.        ,  0.        , -0.3860025 ],\n",
              "       [ 1.43520212,  0.        ,  2.        ,  1.        ,  1.52174691],\n",
              "       [-0.9280186 ,  1.        ,  0.        ,  0.        , -0.44803523],\n",
              "       [-1.65516344,  1.        ,  2.        ,  1.        , -0.72891723],\n",
              "       [ 0.58686648,  1.        ,  2.        ,  0.        ,  1.18979546],\n",
              "       [-1.59456803,  0.        ,  0.        ,  1.        ,  1.13678315],\n",
              "       [ 1.55639293,  1.        ,  0.        ,  0.        , -0.29385544],\n",
              "       [-0.988614  ,  0.        ,  2.        ,  0.        ,  0.4982762 ],\n",
              "       [-1.23099561,  0.        ,  2.        ,  0.        , -0.76041931],\n",
              "       [-0.20087376,  0.        ,  2.        ,  1.        ,  0.94652168],\n",
              "       [-0.80682779,  1.        ,  0.        ,  1.        ,  0.13662675],\n",
              "       [-1.10980481,  1.        ,  1.        ,  1.        ,  0.6695254 ],\n",
              "       [-0.50385078,  0.        ,  0.        ,  0.        , -0.67812533],\n",
              "       [-1.10980481,  0.        ,  0.        ,  1.        ,  0.42694549],\n",
              "       [-1.53397263,  0.        ,  0.        ,  0.        , -0.38461474],\n",
              "       [-0.74623239,  0.        ,  1.        ,  1.        , -0.72780703],\n",
              "       [ 0.9504389 ,  1.        ,  0.        ,  0.        , -0.29843504],\n",
              "       [ 1.19282051,  1.        ,  2.        ,  0.        , -1.15509738],\n",
              "       [-0.74623239,  0.        ,  1.        ,  0.        , -0.884346  ],\n",
              "       [-0.38265997,  0.        ,  0.        ,  1.        , -0.66036204],\n",
              "       [ 0.16269866,  0.        ,  1.        ,  0.        , -0.83508063],\n",
              "       [ 0.88984349,  1.        ,  0.        ,  0.        , -0.29829626],\n",
              "       [ 0.40508027,  0.        ,  2.        ,  0.        , -0.34520245],\n",
              "       [ 1.49579753,  1.        ,  1.        ,  0.        , -0.08416537],\n",
              "       [-0.44325537,  0.        ,  0.        ,  1.        ,  0.97233395],\n",
              "       [ 0.34448487,  0.        ,  2.        ,  1.        ,  0.1563329 ],\n",
              "       [ 1.0716297 ,  1.        ,  2.        ,  0.        ,  0.0707083 ],\n",
              "       [-0.20087376,  1.        ,  0.        ,  1.        , -0.12885115],\n",
              "       [-0.9280186 ,  0.        ,  0.        ,  0.        ,  1.85480857],\n",
              "       [-0.14027836,  0.        ,  1.        ,  1.        ,  1.82996772],\n",
              "       [ 0.70805729,  1.        ,  1.        ,  0.        , -0.14841852],\n",
              "       [-0.50385078,  1.        ,  1.        ,  1.        , -0.64676202],\n",
              "       [ 0.82924809,  0.        ,  1.        ,  0.        ,  3.07561832],\n",
              "       [ 0.70805729,  0.        ,  0.        ,  0.        ,  1.29207314],\n",
              "       [-1.47337723,  1.        ,  0.        ,  1.        ,  2.71369132],\n",
              "       [-1.77635424,  0.        ,  0.        ,  1.        ,  0.08888791],\n",
              "       [-0.80682779,  1.        ,  0.        ,  1.        , -0.58472929],\n",
              "       [ 0.04150785,  0.        ,  0.        ,  0.        , -0.44831279],\n",
              "       [-0.988614  ,  0.        ,  1.        ,  0.        , -0.41042702],\n",
              "       [ 0.70805729,  1.        ,  2.        ,  0.        , -0.98787267],\n",
              "       [-1.35218642,  1.        ,  0.        ,  1.        ,  1.69438387],\n",
              "       [-0.44325537,  1.        ,  1.        ,  1.        , -0.98759512],\n",
              "       [-1.35218642,  1.        ,  2.        ,  0.        , -0.57334968],\n",
              "       [-0.14027836,  1.        ,  1.        ,  0.        ,  0.54518238],\n",
              "       [ 1.67758373,  1.        ,  0.        ,  1.        , -0.88920315],\n",
              "       [-1.29159102,  1.        ,  2.        ,  0.        ,  0.10623487],\n",
              "       [ 0.34448487,  1.        ,  0.        ,  0.        , -1.19270559],\n",
              "       [ 0.16269866,  0.        ,  2.        ,  1.        , -1.30469757],\n",
              "       [-0.56444618,  1.        ,  1.        ,  1.        , -0.95956243],\n",
              "       [ 1.25341591,  0.        ,  1.        ,  1.        , -0.32133303],\n",
              "       [-1.47337723,  0.        ,  2.        ,  1.        , -0.94415833],\n",
              "       [ 0.40508027,  1.        ,  0.        ,  0.        ,  0.30676574],\n",
              "       [ 1.37460672,  1.        ,  2.        ,  1.        , -0.91182359],\n",
              "       [-0.26146916,  0.        ,  2.        ,  0.        , -0.83008471],\n",
              "       [-0.74623239,  0.        ,  0.        ,  1.        , -0.8038561 ],\n",
              "       [ 1.0110343 ,  0.        ,  0.        ,  0.        ,  1.3031752 ],\n",
              "       [-0.988614  ,  1.        ,  2.        ,  0.        ,  1.52368977],\n",
              "       [-1.77635424,  1.        ,  0.        ,  1.        ,  0.15563902],\n",
              "       [-0.62504158,  1.        ,  2.        ,  0.        ,  0.88421139],\n",
              "       [-0.50385078,  0.        ,  2.        ,  0.        ,  0.09277363],\n",
              "       [ 0.52627108,  0.        ,  0.        ,  1.        , -0.49813326],\n",
              "       [-1.53397263,  0.        ,  0.        ,  1.        ,  1.37173039],\n",
              "       [ 1.31401132,  1.        ,  0.        ,  0.        ,  0.0364307 ],\n",
              "       [-0.56444618,  1.        ,  2.        ,  1.        , -1.14344022],\n",
              "       [ 0.16269866,  1.        ,  1.        ,  1.        ,  2.42267869],\n",
              "       [-0.74623239,  0.        ,  2.        ,  0.        , -1.19450967],\n",
              "       [ 1.55639293,  0.        ,  2.        ,  0.        ,  0.61123961],\n",
              "       [ 0.46567567,  1.        ,  1.        ,  1.        ,  2.33663776],\n",
              "       [ 0.28388946,  1.        ,  1.        ,  1.        , -0.34506367],\n",
              "       [-1.23099561,  1.        ,  2.        ,  0.        ,  1.34633444],\n",
              "       [-0.14027836,  0.        ,  0.        ,  0.        ,  0.68714991],\n",
              "       [ 1.79877454,  1.        ,  1.        ,  1.        , -0.57529254],\n",
              "       [ 0.64746188,  0.        ,  0.        ,  0.        , -0.70879476],\n",
              "       [-0.56444618,  0.        ,  0.        ,  0.        , -0.44276176],\n",
              "       [ 0.40508027,  1.        ,  0.        ,  1.        , -0.65800285],\n",
              "       [ 1.49579753,  0.        ,  2.        ,  0.        , -0.83535819],\n",
              "       [ 0.28388946,  1.        ,  0.        ,  1.        , -1.36215071],\n",
              "       [ 1.19282051,  0.        ,  1.        ,  1.        ,  1.34008953],\n",
              "       [ 0.9504389 ,  1.        ,  0.        ,  1.        , -1.03575028],\n",
              "       [ 1.79877454,  1.        ,  0.        ,  1.        , -0.08999395],\n",
              "       [-0.32206457,  1.        ,  0.        ,  0.        , -0.89100724],\n",
              "       [ 1.0110343 ,  1.        ,  2.        ,  0.        , -0.92167666],\n",
              "       [-0.44325537,  0.        ,  1.        ,  1.        , -0.56599457],\n",
              "       [-1.10980481,  0.        ,  0.        ,  1.        , -0.52422309],\n",
              "       [ 1.0110343 ,  0.        ,  1.        ,  1.        , -1.21352194],\n",
              "       [-1.35218642,  1.        ,  1.        ,  0.        , -1.10097486],\n",
              "       [ 0.28388946,  1.        ,  0.        ,  1.        , -1.024787  ],\n",
              "       [ 1.43520212,  1.        ,  0.        ,  0.        , -0.70435393],\n",
              "       [ 0.64746188,  1.        ,  2.        ,  1.        , -1.22448522],\n",
              "       [ 1.67758373,  0.        ,  1.        ,  1.        , -0.20018185],\n",
              "       [-0.44325537,  1.        ,  1.        ,  1.        ,  0.08874914],\n",
              "       [ 0.28388946,  1.        ,  1.        ,  0.        , -0.76985606],\n",
              "       [-0.80682779,  1.        ,  0.        ,  1.        , -0.67410083],\n",
              "       [ 0.52627108,  1.        ,  1.        ,  0.        ,  0.95457067],\n",
              "       [ 0.88984349,  0.        ,  1.        ,  0.        , -0.7827622 ],\n",
              "       [-0.62504158,  0.        ,  1.        ,  1.        , -0.43873726],\n",
              "       [-0.8674232 ,  0.        ,  2.        ,  0.        , -0.78290097],\n",
              "       [ 0.76865269,  0.        ,  0.        ,  1.        , -0.85201127],\n",
              "       [-0.07968296,  1.        ,  2.        ,  1.        , -0.44761891],\n",
              "       [-1.41278182,  0.        ,  0.        ,  1.        ,  1.74129005],\n",
              "       [-1.71575884,  1.        ,  0.        ,  1.        ,  0.40557404],\n",
              "       [-0.38265997,  1.        ,  1.        ,  0.        ,  0.30676574],\n",
              "       [ 0.82924809,  0.        ,  1.        ,  0.        ,  1.46554276],\n",
              "       [ 0.76865269,  0.        ,  2.        ,  0.        , -0.2593003 ],\n",
              "       [ 0.40508027,  0.        ,  1.        ,  1.        ,  0.96012169],\n",
              "       [-1.47337723,  0.        ,  0.        ,  0.        , -0.66924368],\n",
              "       [-0.988614  ,  0.        ,  2.        ,  0.        , -0.44484339],\n",
              "       [ 0.04150785,  1.        ,  1.        ,  1.        , -0.84201942],\n",
              "       [-0.32206457,  0.        ,  2.        ,  1.        ,  0.15827576],\n",
              "       [-0.20087376,  0.        ,  1.        ,  1.        ,  0.36838215],\n",
              "       [-0.14027836,  1.        ,  0.        ,  1.        , -0.46052505],\n",
              "       [ 1.73817914,  0.        ,  0.        ,  0.        ,  0.31412086],\n",
              "       [ 0.22329406,  1.        ,  0.        ,  1.        , -0.78248465],\n",
              "       [-1.17040021,  1.        ,  2.        ,  0.        ,  0.40612914],\n",
              "       [-0.32206457,  1.        ,  2.        ,  0.        , -0.01602651],\n",
              "       [ 1.37460672,  0.        ,  2.        ,  0.        , -0.02685101],\n",
              "       [-1.35218642,  0.        ,  0.        ,  1.        ,  0.93444819],\n",
              "       [ 0.88984349,  0.        ,  2.        ,  0.        , -0.30537382],\n",
              "       [-1.47337723,  0.        ,  1.        ,  1.        , -0.61040279],\n",
              "       [-0.50385078,  0.        ,  0.        ,  1.        , -0.08250007],\n",
              "       [-1.59456803,  0.        ,  0.        ,  0.        ,  2.92865486],\n",
              "       [ 0.76865269,  0.        ,  2.        ,  1.        ,  1.36118344],\n",
              "       [ 1.55639293,  1.        ,  0.        ,  0.        , -0.86533373],\n",
              "       [ 0.16269866,  1.        ,  0.        ,  0.        , -0.788452  ],\n",
              "       [ 1.25341591,  1.        ,  0.        ,  1.        ,  2.62459732],\n",
              "       [ 1.19282051,  1.        ,  0.        ,  1.        ,  0.67271724],\n",
              "       [ 0.82924809,  1.        ,  0.        ,  0.        ,  0.40335363],\n",
              "       [-1.29159102,  1.        ,  0.        ,  0.        , -1.12040345],\n",
              "       [ 1.67758373,  1.        ,  1.        ,  0.        ,  0.031296  ],\n",
              "       [ 1.67758373,  1.        ,  1.        ,  0.        , -1.29276286],\n",
              "       [ 0.10210325,  0.        ,  0.        ,  0.        ,  2.58143808],\n",
              "       [ 0.70805729,  0.        ,  1.        ,  0.        , -0.6269171 ],\n",
              "       [-1.71575884,  1.        ,  1.        ,  0.        , -0.56599457],\n",
              "       [ 0.46567567,  1.        ,  2.        ,  0.        , -0.85908883],\n",
              "       [-1.29159102,  1.        ,  2.        ,  1.        , -0.28650033],\n",
              "       [-0.26146916,  0.        ,  1.        ,  1.        , -0.6571702 ]])"
            ]
          },
          "metadata": {},
          "execution_count": 107
        }
      ]
    },
    {
      "cell_type": "code",
      "source": [
        "y = pd.get_dummies(df.iloc[:,5:]).values\n",
        "y"
      ],
      "metadata": {
        "colab": {
          "base_uri": "https://localhost:8080/"
        },
        "id": "KA7gKNrJQAj3",
        "outputId": "1887f03f-f49b-4bef-ce0d-2239db76441b"
      },
      "execution_count": 108,
      "outputs": [
        {
          "output_type": "execute_result",
          "data": {
            "text/plain": [
              "array([[1, 0, 0, 0, 0],\n",
              "       [0, 0, 0, 1, 0],\n",
              "       [0, 0, 0, 1, 0],\n",
              "       [0, 0, 0, 0, 1],\n",
              "       [1, 0, 0, 0, 0],\n",
              "       [0, 0, 0, 0, 1],\n",
              "       [1, 0, 0, 0, 0],\n",
              "       [0, 0, 0, 1, 0],\n",
              "       [1, 0, 0, 0, 0],\n",
              "       [1, 0, 0, 0, 0],\n",
              "       [0, 0, 0, 1, 0],\n",
              "       [1, 0, 0, 0, 0],\n",
              "       [1, 0, 0, 0, 0],\n",
              "       [1, 0, 0, 0, 0],\n",
              "       [0, 0, 0, 0, 1],\n",
              "       [1, 0, 0, 0, 0],\n",
              "       [0, 0, 0, 0, 1],\n",
              "       [0, 1, 0, 0, 0],\n",
              "       [0, 0, 0, 1, 0],\n",
              "       [1, 0, 0, 0, 0],\n",
              "       [1, 0, 0, 0, 0],\n",
              "       [1, 0, 0, 0, 0],\n",
              "       [1, 0, 0, 0, 0],\n",
              "       [1, 0, 0, 0, 0],\n",
              "       [1, 0, 0, 0, 0],\n",
              "       [1, 0, 0, 0, 0],\n",
              "       [1, 0, 0, 0, 0],\n",
              "       [0, 0, 0, 0, 1],\n",
              "       [1, 0, 0, 0, 0],\n",
              "       [1, 0, 0, 0, 0],\n",
              "       [0, 0, 0, 0, 1],\n",
              "       [0, 0, 1, 0, 0],\n",
              "       [0, 0, 0, 0, 1],\n",
              "       [1, 0, 0, 0, 0],\n",
              "       [0, 0, 0, 0, 1],\n",
              "       [0, 0, 0, 0, 1],\n",
              "       [0, 1, 0, 0, 0],\n",
              "       [0, 0, 0, 0, 1],\n",
              "       [0, 0, 0, 0, 1],\n",
              "       [0, 0, 0, 0, 1],\n",
              "       [1, 0, 0, 0, 0],\n",
              "       [0, 0, 1, 0, 0],\n",
              "       [1, 0, 0, 0, 0],\n",
              "       [0, 0, 0, 0, 1],\n",
              "       [0, 0, 0, 0, 1],\n",
              "       [0, 0, 0, 0, 1],\n",
              "       [0, 1, 0, 0, 0],\n",
              "       [0, 0, 0, 1, 0],\n",
              "       [1, 0, 0, 0, 0],\n",
              "       [1, 0, 0, 0, 0],\n",
              "       [1, 0, 0, 0, 0],\n",
              "       [0, 0, 0, 0, 1],\n",
              "       [1, 0, 0, 0, 0],\n",
              "       [1, 0, 0, 0, 0],\n",
              "       [0, 0, 1, 0, 0],\n",
              "       [0, 0, 0, 1, 0],\n",
              "       [0, 0, 1, 0, 0],\n",
              "       [1, 0, 0, 0, 0],\n",
              "       [0, 0, 0, 0, 1],\n",
              "       [1, 0, 0, 0, 0],\n",
              "       [1, 0, 0, 0, 0],\n",
              "       [0, 1, 0, 0, 0],\n",
              "       [1, 0, 0, 0, 0],\n",
              "       [0, 0, 0, 0, 1],\n",
              "       [0, 0, 1, 0, 0],\n",
              "       [1, 0, 0, 0, 0],\n",
              "       [0, 1, 0, 0, 0],\n",
              "       [0, 0, 0, 0, 1],\n",
              "       [1, 0, 0, 0, 0],\n",
              "       [1, 0, 0, 0, 0],\n",
              "       [0, 0, 1, 0, 0],\n",
              "       [1, 0, 0, 0, 0],\n",
              "       [0, 0, 0, 0, 1],\n",
              "       [1, 0, 0, 0, 0],\n",
              "       [1, 0, 0, 0, 0],\n",
              "       [1, 0, 0, 0, 0],\n",
              "       [0, 1, 0, 0, 0],\n",
              "       [1, 0, 0, 0, 0],\n",
              "       [0, 1, 0, 0, 0],\n",
              "       [0, 0, 0, 0, 1],\n",
              "       [0, 0, 1, 0, 0],\n",
              "       [0, 0, 0, 0, 1],\n",
              "       [0, 0, 0, 1, 0],\n",
              "       [0, 1, 0, 0, 0],\n",
              "       [0, 0, 0, 1, 0],\n",
              "       [0, 0, 1, 0, 0],\n",
              "       [0, 0, 0, 0, 1],\n",
              "       [1, 0, 0, 0, 0],\n",
              "       [1, 0, 0, 0, 0],\n",
              "       [1, 0, 0, 0, 0],\n",
              "       [1, 0, 0, 0, 0],\n",
              "       [1, 0, 0, 0, 0],\n",
              "       [1, 0, 0, 0, 0],\n",
              "       [1, 0, 0, 0, 0],\n",
              "       [1, 0, 0, 0, 0],\n",
              "       [0, 0, 0, 0, 1],\n",
              "       [1, 0, 0, 0, 0],\n",
              "       [1, 0, 0, 0, 0],\n",
              "       [1, 0, 0, 0, 0],\n",
              "       [1, 0, 0, 0, 0],\n",
              "       [0, 1, 0, 0, 0],\n",
              "       [0, 1, 0, 0, 0],\n",
              "       [0, 0, 0, 1, 0],\n",
              "       [0, 0, 0, 0, 1],\n",
              "       [1, 0, 0, 0, 0],\n",
              "       [0, 0, 0, 0, 1],\n",
              "       [0, 0, 0, 0, 1],\n",
              "       [1, 0, 0, 0, 0],\n",
              "       [0, 0, 1, 0, 0],\n",
              "       [1, 0, 0, 0, 0],\n",
              "       [0, 1, 0, 0, 0],\n",
              "       [0, 0, 0, 0, 1],\n",
              "       [0, 0, 0, 0, 1],\n",
              "       [0, 0, 0, 0, 1],\n",
              "       [0, 0, 0, 0, 1],\n",
              "       [1, 0, 0, 0, 0],\n",
              "       [0, 0, 0, 0, 1],\n",
              "       [0, 0, 0, 0, 1],\n",
              "       [0, 1, 0, 0, 0],\n",
              "       [1, 0, 0, 0, 0],\n",
              "       [1, 0, 0, 0, 0],\n",
              "       [1, 0, 0, 0, 0],\n",
              "       [1, 0, 0, 0, 0],\n",
              "       [1, 0, 0, 0, 0],\n",
              "       [0, 0, 1, 0, 0],\n",
              "       [1, 0, 0, 0, 0],\n",
              "       [1, 0, 0, 0, 0],\n",
              "       [0, 0, 0, 0, 1],\n",
              "       [1, 0, 0, 0, 0],\n",
              "       [0, 0, 0, 0, 1],\n",
              "       [1, 0, 0, 0, 0],\n",
              "       [1, 0, 0, 0, 0],\n",
              "       [0, 0, 0, 0, 1],\n",
              "       [1, 0, 0, 0, 0],\n",
              "       [1, 0, 0, 0, 0],\n",
              "       [0, 0, 0, 0, 1],\n",
              "       [0, 0, 1, 0, 0],\n",
              "       [0, 1, 0, 0, 0],\n",
              "       [0, 0, 1, 0, 0],\n",
              "       [0, 0, 0, 0, 1],\n",
              "       [0, 1, 0, 0, 0],\n",
              "       [1, 0, 0, 0, 0],\n",
              "       [0, 0, 1, 0, 0],\n",
              "       [1, 0, 0, 0, 0],\n",
              "       [0, 1, 0, 0, 0],\n",
              "       [0, 0, 0, 0, 1],\n",
              "       [0, 0, 0, 0, 1],\n",
              "       [0, 1, 0, 0, 0],\n",
              "       [0, 0, 0, 0, 1],\n",
              "       [0, 0, 0, 1, 0],\n",
              "       [0, 1, 0, 0, 0],\n",
              "       [0, 0, 1, 0, 0],\n",
              "       [0, 0, 0, 0, 1],\n",
              "       [0, 0, 0, 0, 1],\n",
              "       [1, 0, 0, 0, 0],\n",
              "       [0, 0, 0, 1, 0],\n",
              "       [0, 1, 0, 0, 0],\n",
              "       [1, 0, 0, 0, 0],\n",
              "       [0, 0, 0, 1, 0],\n",
              "       [0, 0, 0, 0, 1],\n",
              "       [0, 0, 0, 0, 1],\n",
              "       [0, 0, 1, 0, 0],\n",
              "       [0, 0, 0, 0, 1],\n",
              "       [1, 0, 0, 0, 0],\n",
              "       [1, 0, 0, 0, 0],\n",
              "       [1, 0, 0, 0, 0],\n",
              "       [1, 0, 0, 0, 0],\n",
              "       [0, 0, 0, 0, 1],\n",
              "       [1, 0, 0, 0, 0],\n",
              "       [0, 1, 0, 0, 0],\n",
              "       [0, 0, 0, 0, 1],\n",
              "       [0, 0, 0, 0, 1],\n",
              "       [1, 0, 0, 0, 0],\n",
              "       [1, 0, 0, 0, 0],\n",
              "       [0, 1, 0, 0, 0],\n",
              "       [1, 0, 0, 0, 0],\n",
              "       [0, 1, 0, 0, 0],\n",
              "       [1, 0, 0, 0, 0],\n",
              "       [1, 0, 0, 0, 0],\n",
              "       [1, 0, 0, 0, 0],\n",
              "       [1, 0, 0, 0, 0],\n",
              "       [0, 0, 0, 0, 1],\n",
              "       [0, 0, 0, 0, 1],\n",
              "       [1, 0, 0, 0, 0],\n",
              "       [1, 0, 0, 0, 0],\n",
              "       [1, 0, 0, 0, 0],\n",
              "       [0, 0, 1, 0, 0],\n",
              "       [0, 1, 0, 0, 0],\n",
              "       [1, 0, 0, 0, 0],\n",
              "       [1, 0, 0, 0, 0],\n",
              "       [1, 0, 0, 0, 0],\n",
              "       [0, 1, 0, 0, 0],\n",
              "       [1, 0, 0, 0, 0],\n",
              "       [0, 0, 0, 1, 0],\n",
              "       [1, 0, 0, 0, 0],\n",
              "       [0, 0, 0, 1, 0],\n",
              "       [0, 0, 0, 1, 0],\n",
              "       [0, 0, 0, 0, 1],\n",
              "       [0, 0, 0, 0, 1],\n",
              "       [0, 0, 0, 0, 1]], dtype=uint8)"
            ]
          },
          "metadata": {},
          "execution_count": 108
        }
      ]
    },
    {
      "cell_type": "code",
      "source": [
        "xtrain,xtest,ytrain,ytest= train_test_split(x,y,test_size=0.2, random_state=21)"
      ],
      "metadata": {
        "id": "N5LajmpfQAmg"
      },
      "execution_count": 109,
      "outputs": []
    },
    {
      "cell_type": "code",
      "source": [
        "xtrain.shape, xtest.shape, ytrain.shape, ytest.shape"
      ],
      "metadata": {
        "colab": {
          "base_uri": "https://localhost:8080/"
        },
        "id": "FMHY2W2-QAou",
        "outputId": "9297cba9-f06a-48c6-dd71-11a39a278443"
      },
      "execution_count": 110,
      "outputs": [
        {
          "output_type": "execute_result",
          "data": {
            "text/plain": [
              "((160, 5), (40, 5), (160, 5), (40, 5))"
            ]
          },
          "metadata": {},
          "execution_count": 110
        }
      ]
    },
    {
      "cell_type": "code",
      "source": [
        "# Normalize numerical variables\n",
        "scaler = StandardScaler()\n",
        "df[['Age', 'Na_to_K']] = scaler.fit_transform(df[['Age', 'Na_to_K']])"
      ],
      "metadata": {
        "id": "q9shxZ4zWJlr"
      },
      "execution_count": 111,
      "outputs": []
    },
    {
      "cell_type": "markdown",
      "source": [
        "TASK 2: BUILD THE ANN MODEL"
      ],
      "metadata": {
        "id": "oNWAgAI8Xl1m"
      }
    },
    {
      "cell_type": "code",
      "source": [
        "#ANN model\n",
        "model = Sequential()\n",
        "model.add(Dense(32, activation='relu', input_dim=x.shape[1]))  # Input layer\n",
        "model.add(Dense(16, activation='relu'))  # Hidden layer 1\n",
        "model.add(Dense(8, activation='relu'))  # Hidden layer 2\n",
        "model.add(Dense(4, activation='relu'))  # Hidden layer 3\n",
        "model.add(Dense(5, activation='softmax'))  # Output layer"
      ],
      "metadata": {
        "id": "ncyBndimQAto"
      },
      "execution_count": 112,
      "outputs": []
    },
    {
      "cell_type": "code",
      "source": [
        "#compile\n",
        "model.compile(optimizer='adam',loss='categorical_crossentropy',metrics=['accuracy'])"
      ],
      "metadata": {
        "id": "tUqZqp8KQAvs"
      },
      "execution_count": 113,
      "outputs": []
    },
    {
      "cell_type": "code",
      "source": [
        "model.summary()"
      ],
      "metadata": {
        "colab": {
          "base_uri": "https://localhost:8080/"
        },
        "id": "APUKUNHlPrXl",
        "outputId": "d2edf9c8-47b6-4639-e78b-8caeb5a08d99"
      },
      "execution_count": 114,
      "outputs": [
        {
          "output_type": "stream",
          "name": "stdout",
          "text": [
            "Model: \"sequential_6\"\n",
            "_________________________________________________________________\n",
            " Layer (type)                Output Shape              Param #   \n",
            "=================================================================\n",
            " dense_30 (Dense)            (None, 32)                192       \n",
            "                                                                 \n",
            " dense_31 (Dense)            (None, 16)                528       \n",
            "                                                                 \n",
            " dense_32 (Dense)            (None, 8)                 136       \n",
            "                                                                 \n",
            " dense_33 (Dense)            (None, 4)                 36        \n",
            "                                                                 \n",
            " dense_34 (Dense)            (None, 5)                 25        \n",
            "                                                                 \n",
            "=================================================================\n",
            "Total params: 917\n",
            "Trainable params: 917\n",
            "Non-trainable params: 0\n",
            "_________________________________________________________________\n"
          ]
        }
      ]
    },
    {
      "cell_type": "code",
      "source": [
        "#train the model\n",
        "model.fit(xtrain, ytrain, epochs=10, batch_size=5, validation_data=(xtest, ytest))"
      ],
      "metadata": {
        "colab": {
          "base_uri": "https://localhost:8080/"
        },
        "id": "L0nz9klfPrbH",
        "outputId": "e05c7f14-1248-4689-d919-286829d19921"
      },
      "execution_count": 115,
      "outputs": [
        {
          "output_type": "stream",
          "name": "stdout",
          "text": [
            "Epoch 1/10\n",
            "32/32 [==============================] - 1s 9ms/step - loss: 1.6025 - accuracy: 0.0875 - val_loss: 1.5018 - val_accuracy: 0.1250\n",
            "Epoch 2/10\n",
            "32/32 [==============================] - 0s 3ms/step - loss: 1.5446 - accuracy: 0.1750 - val_loss: 1.4573 - val_accuracy: 0.1250\n",
            "Epoch 3/10\n",
            "32/32 [==============================] - 0s 3ms/step - loss: 1.4979 - accuracy: 0.2062 - val_loss: 1.3990 - val_accuracy: 0.1250\n",
            "Epoch 4/10\n",
            "32/32 [==============================] - 0s 6ms/step - loss: 1.4407 - accuracy: 0.2438 - val_loss: 1.3282 - val_accuracy: 0.2750\n",
            "Epoch 5/10\n",
            "32/32 [==============================] - 0s 4ms/step - loss: 1.3606 - accuracy: 0.3812 - val_loss: 1.2185 - val_accuracy: 0.5250\n",
            "Epoch 6/10\n",
            "32/32 [==============================] - 0s 4ms/step - loss: 1.2523 - accuracy: 0.4437 - val_loss: 1.0937 - val_accuracy: 0.5500\n",
            "Epoch 7/10\n",
            "32/32 [==============================] - 0s 4ms/step - loss: 1.1328 - accuracy: 0.4750 - val_loss: 0.9828 - val_accuracy: 0.6500\n",
            "Epoch 8/10\n",
            "32/32 [==============================] - 0s 4ms/step - loss: 1.0311 - accuracy: 0.5688 - val_loss: 0.9193 - val_accuracy: 0.6750\n",
            "Epoch 9/10\n",
            "32/32 [==============================] - 0s 4ms/step - loss: 0.9719 - accuracy: 0.6000 - val_loss: 0.8910 - val_accuracy: 0.6750\n",
            "Epoch 10/10\n",
            "32/32 [==============================] - 0s 4ms/step - loss: 0.9370 - accuracy: 0.6562 - val_loss: 0.8562 - val_accuracy: 0.6750\n"
          ]
        },
        {
          "output_type": "execute_result",
          "data": {
            "text/plain": [
              "<keras.callbacks.History at 0x7fdc6e3c6c20>"
            ]
          },
          "metadata": {},
          "execution_count": 115
        }
      ]
    },
    {
      "cell_type": "markdown",
      "source": [
        "TASK 3:TEST THE MODEL WITH RANDOM DATA"
      ],
      "metadata": {
        "id": "w1fzSCY1bX_G"
      }
    },
    {
      "cell_type": "code",
      "source": [
        "ypred=model.predict(xtest)"
      ],
      "metadata": {
        "colab": {
          "base_uri": "https://localhost:8080/"
        },
        "id": "6Wda5-gGX6BE",
        "outputId": "4d33e33c-be9a-4e2a-b4d8-f488e110ed2f"
      },
      "execution_count": 116,
      "outputs": [
        {
          "output_type": "stream",
          "name": "stdout",
          "text": [
            "2/2 [==============================] - 0s 7ms/step\n"
          ]
        }
      ]
    },
    {
      "cell_type": "code",
      "source": [
        "model.predict([[1,0,1,0,1]])"
      ],
      "metadata": {
        "colab": {
          "base_uri": "https://localhost:8080/"
        },
        "id": "owGw3d53YwTY",
        "outputId": "9d21edc2-6ca2-4464-dc6f-e7a2ab34588f"
      },
      "execution_count": 117,
      "outputs": [
        {
          "output_type": "stream",
          "name": "stderr",
          "text": [
            "WARNING:tensorflow:5 out of the last 10 calls to <function Model.make_predict_function.<locals>.predict_function at 0x7fdc6dd86b00> triggered tf.function retracing. Tracing is expensive and the excessive number of tracings could be due to (1) creating @tf.function repeatedly in a loop, (2) passing tensors with different shapes, (3) passing Python objects instead of tensors. For (1), please define your @tf.function outside of the loop. For (2), @tf.function has reduce_retracing=True option that can avoid unnecessary retracing. For (3), please refer to https://www.tensorflow.org/guide/function#controlling_retracing and https://www.tensorflow.org/api_docs/python/tf/function for  more details.\n"
          ]
        },
        {
          "output_type": "stream",
          "name": "stdout",
          "text": [
            "1/1 [==============================] - 0s 101ms/step\n"
          ]
        },
        {
          "output_type": "execute_result",
          "data": {
            "text/plain": [
              "array([[9.5398462e-01, 1.0836030e-04, 4.4797573e-02, 5.1054172e-04,\n",
              "        5.9895252e-04]], dtype=float32)"
            ]
          },
          "metadata": {},
          "execution_count": 117
        }
      ]
    }
  ]
}