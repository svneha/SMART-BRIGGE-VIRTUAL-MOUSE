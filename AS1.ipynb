{
 "cells": [
  {
   "cell_type": "code",
   "execution_count": 1,
   "metadata": {},
   "outputs": [],
   "source": [
    "#Implementation of Assignment-1 assigned "
   ]
  },
  {
   "cell_type": "code",
   "execution_count": 2,
   "metadata": {},
   "outputs": [
    {
     "data": {
      "text/html": [
       "<div>\n",
       "<style scoped>\n",
       "    .dataframe tbody tr th:only-of-type {\n",
       "        vertical-align: middle;\n",
       "    }\n",
       "\n",
       "    .dataframe tbody tr th {\n",
       "        vertical-align: top;\n",
       "    }\n",
       "\n",
       "    .dataframe thead th {\n",
       "        text-align: right;\n",
       "    }\n",
       "</style>\n",
       "<table border=\"1\" class=\"dataframe\">\n",
       "  <thead>\n",
       "    <tr style=\"text-align: right;\">\n",
       "      <th></th>\n",
       "      <th>col1</th>\n",
       "      <th>col2</th>\n",
       "      <th>col3</th>\n",
       "      <th>col4</th>\n",
       "    </tr>\n",
       "  </thead>\n",
       "  <tbody>\n",
       "    <tr>\n",
       "      <th>0</th>\n",
       "      <td>0.847165</td>\n",
       "      <td>0.169621</td>\n",
       "      <td>0.300486</td>\n",
       "      <td>0.814717</td>\n",
       "    </tr>\n",
       "    <tr>\n",
       "      <th>1</th>\n",
       "      <td>0.279439</td>\n",
       "      <td>0.495012</td>\n",
       "      <td>0.593120</td>\n",
       "      <td>0.224066</td>\n",
       "    </tr>\n",
       "    <tr>\n",
       "      <th>2</th>\n",
       "      <td>0.826255</td>\n",
       "      <td>0.092002</td>\n",
       "      <td>0.828948</td>\n",
       "      <td>0.664088</td>\n",
       "    </tr>\n",
       "    <tr>\n",
       "      <th>3</th>\n",
       "      <td>0.071952</td>\n",
       "      <td>0.765451</td>\n",
       "      <td>0.312402</td>\n",
       "      <td>0.911744</td>\n",
       "    </tr>\n",
       "  </tbody>\n",
       "</table>\n",
       "</div>"
      ],
      "text/plain": [
       "       col1      col2      col3      col4\n",
       "0  0.847165  0.169621  0.300486  0.814717\n",
       "1  0.279439  0.495012  0.593120  0.224066\n",
       "2  0.826255  0.092002  0.828948  0.664088\n",
       "3  0.071952  0.765451  0.312402  0.911744"
      ]
     },
     "execution_count": 2,
     "metadata": {},
     "output_type": "execute_result"
    }
   ],
   "source": [
    "#Q-1 Create a pandas dataframe with numpy random values\n",
    "import numpy as np\n",
    "import pandas as pd\n",
    "df = pd.DataFrame(np.random.rand(4,4),columns=['col1','col2','col3','col4'])\n",
    "df"
   ]
  },
  {
   "cell_type": "code",
   "execution_count": 3,
   "metadata": {},
   "outputs": [
    {
     "data": {
      "text/html": [
       "<div>\n",
       "<style scoped>\n",
       "    .dataframe tbody tr th:only-of-type {\n",
       "        vertical-align: middle;\n",
       "    }\n",
       "\n",
       "    .dataframe tbody tr th {\n",
       "        vertical-align: top;\n",
       "    }\n",
       "\n",
       "    .dataframe thead th {\n",
       "        text-align: right;\n",
       "    }\n",
       "</style>\n",
       "<table border=\"1\" class=\"dataframe\">\n",
       "  <thead>\n",
       "    <tr style=\"text-align: right;\">\n",
       "      <th></th>\n",
       "      <th>Random value 1</th>\n",
       "      <th>Random value 2</th>\n",
       "      <th>Random value 3</th>\n",
       "      <th>Random value 4</th>\n",
       "    </tr>\n",
       "  </thead>\n",
       "  <tbody>\n",
       "    <tr>\n",
       "      <th>0</th>\n",
       "      <td>0.847165</td>\n",
       "      <td>0.169621</td>\n",
       "      <td>0.300486</td>\n",
       "      <td>0.814717</td>\n",
       "    </tr>\n",
       "    <tr>\n",
       "      <th>1</th>\n",
       "      <td>0.279439</td>\n",
       "      <td>0.495012</td>\n",
       "      <td>0.593120</td>\n",
       "      <td>0.224066</td>\n",
       "    </tr>\n",
       "    <tr>\n",
       "      <th>2</th>\n",
       "      <td>0.826255</td>\n",
       "      <td>0.092002</td>\n",
       "      <td>0.828948</td>\n",
       "      <td>0.664088</td>\n",
       "    </tr>\n",
       "    <tr>\n",
       "      <th>3</th>\n",
       "      <td>0.071952</td>\n",
       "      <td>0.765451</td>\n",
       "      <td>0.312402</td>\n",
       "      <td>0.911744</td>\n",
       "    </tr>\n",
       "  </tbody>\n",
       "</table>\n",
       "</div>"
      ],
      "text/plain": [
       "   Random value 1  Random value 2  Random value 3  Random value 4\n",
       "0        0.847165        0.169621        0.300486        0.814717\n",
       "1        0.279439        0.495012        0.593120        0.224066\n",
       "2        0.826255        0.092002        0.828948        0.664088\n",
       "3        0.071952        0.765451        0.312402        0.911744"
      ]
     },
     "execution_count": 3,
     "metadata": {},
     "output_type": "execute_result"
    }
   ],
   "source": [
    "#Q-2 Renaming df column names to Random value1....\n",
    "df = df.rename(columns={'col1':'Random value 1',\n",
    "                  'col2':'Random value 2',\n",
    "                  'col3':'Random value 3',\n",
    "                  'col4':'Random value 4'})\n",
    "\n",
    "df"
   ]
  },
  {
   "cell_type": "code",
   "execution_count": 4,
   "metadata": {},
   "outputs": [
    {
     "data": {
      "text/html": [
       "<div>\n",
       "<style scoped>\n",
       "    .dataframe tbody tr th:only-of-type {\n",
       "        vertical-align: middle;\n",
       "    }\n",
       "\n",
       "    .dataframe tbody tr th {\n",
       "        vertical-align: top;\n",
       "    }\n",
       "\n",
       "    .dataframe thead th {\n",
       "        text-align: right;\n",
       "    }\n",
       "</style>\n",
       "<table border=\"1\" class=\"dataframe\">\n",
       "  <thead>\n",
       "    <tr style=\"text-align: right;\">\n",
       "      <th></th>\n",
       "      <th>Random value 1</th>\n",
       "      <th>Random value 2</th>\n",
       "      <th>Random value 3</th>\n",
       "      <th>Random value 4</th>\n",
       "    </tr>\n",
       "  </thead>\n",
       "  <tbody>\n",
       "    <tr>\n",
       "      <th>count</th>\n",
       "      <td>4.000000</td>\n",
       "      <td>4.000000</td>\n",
       "      <td>4.000000</td>\n",
       "      <td>4.000000</td>\n",
       "    </tr>\n",
       "    <tr>\n",
       "      <th>mean</th>\n",
       "      <td>0.506203</td>\n",
       "      <td>0.380522</td>\n",
       "      <td>0.508739</td>\n",
       "      <td>0.653654</td>\n",
       "    </tr>\n",
       "    <tr>\n",
       "      <th>std</th>\n",
       "      <td>0.391018</td>\n",
       "      <td>0.310377</td>\n",
       "      <td>0.252700</td>\n",
       "      <td>0.303977</td>\n",
       "    </tr>\n",
       "    <tr>\n",
       "      <th>min</th>\n",
       "      <td>0.071952</td>\n",
       "      <td>0.092002</td>\n",
       "      <td>0.300486</td>\n",
       "      <td>0.224066</td>\n",
       "    </tr>\n",
       "    <tr>\n",
       "      <th>25%</th>\n",
       "      <td>0.227568</td>\n",
       "      <td>0.150216</td>\n",
       "      <td>0.309423</td>\n",
       "      <td>0.554082</td>\n",
       "    </tr>\n",
       "    <tr>\n",
       "      <th>50%</th>\n",
       "      <td>0.552847</td>\n",
       "      <td>0.332317</td>\n",
       "      <td>0.452761</td>\n",
       "      <td>0.739402</td>\n",
       "    </tr>\n",
       "    <tr>\n",
       "      <th>75%</th>\n",
       "      <td>0.831483</td>\n",
       "      <td>0.562622</td>\n",
       "      <td>0.652077</td>\n",
       "      <td>0.838974</td>\n",
       "    </tr>\n",
       "    <tr>\n",
       "      <th>max</th>\n",
       "      <td>0.847165</td>\n",
       "      <td>0.765451</td>\n",
       "      <td>0.828948</td>\n",
       "      <td>0.911744</td>\n",
       "    </tr>\n",
       "  </tbody>\n",
       "</table>\n",
       "</div>"
      ],
      "text/plain": [
       "       Random value 1  Random value 2  Random value 3  Random value 4\n",
       "count        4.000000        4.000000        4.000000        4.000000\n",
       "mean         0.506203        0.380522        0.508739        0.653654\n",
       "std          0.391018        0.310377        0.252700        0.303977\n",
       "min          0.071952        0.092002        0.300486        0.224066\n",
       "25%          0.227568        0.150216        0.309423        0.554082\n",
       "50%          0.552847        0.332317        0.452761        0.739402\n",
       "75%          0.831483        0.562622        0.652077        0.838974\n",
       "max          0.847165        0.765451        0.828948        0.911744"
      ]
     },
     "execution_count": 4,
     "metadata": {},
     "output_type": "execute_result"
    }
   ],
   "source": [
    "#Q-3 Descriptive statistics of the 'df' DataFrame\n",
    "df.describe()"
   ]
  },
  {
   "cell_type": "code",
   "execution_count": 5,
   "metadata": {},
   "outputs": [
    {
     "name": "stdout",
     "output_type": "stream",
     "text": [
      "Random value 1    False\n",
      "Random value 2    False\n",
      "Random value 3    False\n",
      "Random value 4    False\n",
      "dtype: bool\n",
      " \n",
      "Data type of columns: \n",
      " \n",
      "Random value 1    float64\n",
      "Random value 2    float64\n",
      "Random value 3    float64\n",
      "Random value 4    float64\n",
      "dtype: object\n"
     ]
    }
   ],
   "source": [
    "#Q-4check for null values in df and find the datatype of columns\n",
    "print(df.isnull().any())\n",
    "print(\" \")\n",
    "print(\"Data type of columns: \")\n",
    "print(\" \")\n",
    "print(df.dtypes)"
   ]
  },
  {
   "cell_type": "code",
   "execution_count": 6,
   "metadata": {},
   "outputs": [
    {
     "name": "stdout",
     "output_type": "stream",
     "text": [
      "Displaying 'Random value 2 ' & 'Random value 3' columns with location method: \n",
      "   Random value 2  Random value 3\n",
      "0        0.169621        0.300486\n",
      "1        0.495012        0.593120\n",
      "2        0.092002        0.828948\n",
      "3        0.765451        0.312402\n",
      " \n",
      "Displaying 'Random value 2 ' & 'Random value 3' columns with Index location method:\n",
      "   Random value 2  Random value 3\n",
      "0        0.169621        0.300486\n",
      "1        0.495012        0.593120\n",
      "2        0.092002        0.828948\n",
      "3        0.765451        0.312402\n"
     ]
    }
   ],
   "source": [
    "#Q-5 Displaying 'Random value 2 ' & 'Random value 3' columns with location method and index location method\n",
    "print(\"Displaying 'Random value 2 ' & 'Random value 3' columns with location method: \")\n",
    "print(df.loc[:,'Random value 1 ':'Random value 3 '])\n",
    "print(\" \")\n",
    "print(\"Displaying 'Random value 2 ' & 'Random value 3' columns with Index location method:\")\n",
    "print(df.iloc[:,1:3])"
   ]
  }
 ],
 "metadata": {
  "kernelspec": {
   "display_name": "Python 3",
   "language": "python",
   "name": "python3"
  },
  "language_info": {
   "codemirror_mode": {
    "name": "ipython",
    "version": 3
   },
   "file_extension": ".py",
   "mimetype": "text/x-python",
   "name": "python",
   "nbconvert_exporter": "python",
   "pygments_lexer": "ipython3",
   "version": "3.8.3"
  }
 },
 "nbformat": 4,
 "nbformat_minor": 4
}
