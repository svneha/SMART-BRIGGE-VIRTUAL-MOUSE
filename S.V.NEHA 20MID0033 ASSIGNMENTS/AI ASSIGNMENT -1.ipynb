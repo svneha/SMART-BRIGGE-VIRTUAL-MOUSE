{
 "cells": [
  {
   "cell_type": "markdown",
   "id": "00b6a836",
   "metadata": {},
   "source": [
    "## AI ASSIGNMENT -1"
   ]
  },
  {
   "cell_type": "markdown",
   "id": "164afa06",
   "metadata": {},
   "source": [
    "### Importing necessary libraries"
   ]
  },
  {
   "cell_type": "code",
   "execution_count": 6,
   "id": "ea1650df",
   "metadata": {},
   "outputs": [],
   "source": [
    "import numpy as np\n",
    "import pandas as pd"
   ]
  },
  {
   "cell_type": "code",
   "execution_count": 1,
   "id": "0ecf57bd",
   "metadata": {},
   "outputs": [
    {
     "name": "stdout",
     "output_type": "stream",
     "text": [
      "                Feature 1  Feature 2  Feature 3  Feature 4\n",
      "Observation 1    0.987886   0.296114   0.414292   0.019269\n",
      "Observation 2    0.986421   0.564424   0.415996   0.809752\n",
      "Observation 3    0.736647   0.433779   0.541980   0.684750\n",
      "Observation 4    0.311656   0.201717   0.616303   0.236488\n"
     ]
    }
   ],
   "source": [
    "\n",
    "\n",
    "# Generating random values\n",
    "d = np.random.rand(4, 4)\n",
    "\n",
    "# Creating a DataFrame with specified index\n",
    "df = pd.DataFrame(d, columns=['Feature 1', 'Feature 2', 'Feature 3', 'Feature 4'], index=['Observation 1 ', 'Observation 2', 'Observation 3', 'Observation 4'])\n",
    "\n",
    "# Print the DataFrame\n",
    "print(df)\n",
    "\n"
   ]
  },
  {
   "cell_type": "code",
   "execution_count": 2,
   "id": "435c1875",
   "metadata": {},
   "outputs": [
    {
     "name": "stdout",
     "output_type": "stream",
     "text": [
      "                Random Value 1  Random Value 2  Random Value 3  Random Value 4\n",
      "Observation 1         0.987886        0.296114        0.414292        0.019269\n",
      "Observation 2         0.986421        0.564424        0.415996        0.809752\n",
      "Observation 3         0.736647        0.433779        0.541980        0.684750\n",
      "Observation 4         0.311656        0.201717        0.616303        0.236488\n"
     ]
    }
   ],
   "source": [
    "#Renaming Columns\n",
    "df = df.rename(columns = {'Feature 1' : 'Random Value 1',\n",
    " 'Feature 2' : 'Random Value 2',\n",
    "'Feature 3' : 'Random Value 3',\n",
    "'Feature 4' : 'Random Value 4'})\n",
    "# Print the DataFrame\n",
    "print(df)"
   ]
  },
  {
   "cell_type": "code",
   "execution_count": 3,
   "id": "a4345d92",
   "metadata": {},
   "outputs": [
    {
     "name": "stdout",
     "output_type": "stream",
     "text": [
      "                Random Value 1  Random Value 2  Random Value 3  Random Value 4\n",
      "Observation 1         0.987886        0.296114        0.414292        0.019269\n",
      "Observation 2         0.986421        0.564424        0.415996        0.809752\n",
      "Observation 3         0.736647        0.433779        0.541980        0.684750\n",
      "Observation 4         0.311656        0.201717        0.616303        0.236488\n",
      "\n",
      "\n",
      "       Random Value 1  Random Value 2  Random Value 3  Random Value 4\n",
      "count        4.000000        4.000000        4.000000        4.000000\n",
      "mean         0.755653        0.374008        0.497143        0.437565\n",
      "std          0.318685        0.158727        0.099429        0.371944\n",
      "min          0.311656        0.201717        0.414292        0.019269\n",
      "25%          0.630399        0.272514        0.415570        0.182183\n",
      "50%          0.861534        0.364946        0.478988        0.460619\n",
      "75%          0.986787        0.466440        0.560561        0.716001\n",
      "max          0.987886        0.564424        0.616303        0.809752\n"
     ]
    }
   ],
   "source": [
    "stat = df.describe()\n",
    "# Print the DataFrame\n",
    "print(df)\n",
    "print('\\n')\n",
    "print(stat)"
   ]
  },
  {
   "cell_type": "code",
   "execution_count": 4,
   "id": "9e50ee28",
   "metadata": {},
   "outputs": [
    {
     "name": "stdout",
     "output_type": "stream",
     "text": [
      "Random Value 1    0\n",
      "Random Value 2    0\n",
      "Random Value 3    0\n",
      "Random Value 4    0\n",
      "dtype: int64\n",
      "\n",
      "\n",
      "Random Value 1    float64\n",
      "Random Value 2    float64\n",
      "Random Value 3    float64\n",
      "Random Value 4    float64\n",
      "dtype: object\n"
     ]
    }
   ],
   "source": [
    "#Checking NULL values\n",
    "null_val = df.isnull().sum()\n",
    "#Checking Data types\n",
    "data_type = df.dtypes\n",
    "# Print the DataFrame\n",
    "print(null_val)\n",
    "print('\\n')\n",
    "print(data_type)"
   ]
  },
  {
   "cell_type": "code",
   "execution_count": 5,
   "id": "9a2a02ef",
   "metadata": {},
   "outputs": [
    {
     "name": "stdout",
     "output_type": "stream",
     "text": [
      "Columns using location method:\n",
      "                Random Value 2  Random Value 3\n",
      "Observation 1         0.296114        0.414292\n",
      "Observation 2         0.564424        0.415996\n",
      "Observation 3         0.433779        0.541980\n",
      "Observation 4         0.201717        0.616303\n",
      "\n",
      "Columns using index location method :\n",
      "                Random Value 2  Random Value 3\n",
      "Observation 1         0.296114        0.414292\n",
      "Observation 2         0.564424        0.415996\n",
      "Observation 3         0.433779        0.541980\n",
      "Observation 4         0.201717        0.616303\n"
     ]
    }
   ],
   "source": [
    "# Display columns using the location method\n",
    "location_method = df[['Random Value 2', 'Random Value 3']]\n",
    "print(\"Columns using location method:\")\n",
    "print(location_method)\n",
    "# Display columns using the index location method\n",
    "index_location_method = df.iloc[:, 1:3]\n",
    "print(\"\\nColumns using index location method :\")\n",
    "print(index_location_method)"
   ]
  },
  {
   "cell_type": "code",
   "execution_count": null,
   "id": "5110d3c1",
   "metadata": {},
   "outputs": [],
   "source": []
  },
  {
   "cell_type": "code",
   "execution_count": null,
   "id": "7bdc1e62",
   "metadata": {},
   "outputs": [],
   "source": []
  }
 ],
 "metadata": {
  "kernelspec": {
   "display_name": "Python 3 (ipykernel)",
   "language": "python",
   "name": "python3"
  },
  "language_info": {
   "codemirror_mode": {
    "name": "ipython",
    "version": 3
   },
   "file_extension": ".py",
   "mimetype": "text/x-python",
   "name": "python",
   "nbconvert_exporter": "python",
   "pygments_lexer": "ipython3",
   "version": "3.10.7"
  }
 },
 "nbformat": 4,
 "nbformat_minor": 5
}
